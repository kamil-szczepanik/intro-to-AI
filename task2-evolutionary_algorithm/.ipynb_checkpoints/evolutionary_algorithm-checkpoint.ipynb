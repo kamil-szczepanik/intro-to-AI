{
 "cells": [
  {
   "cell_type": "code",
   "execution_count": 1,
   "id": "4da42370",
   "metadata": {},
   "outputs": [],
   "source": [
    "import matplotlib.pyplot as plt\n",
    "import random\n",
    "from operator import itemgetter\n",
    "import numpy as np"
   ]
  },
  {
   "cell_type": "markdown",
   "id": "86285d07",
   "metadata": {},
   "source": [
    "### Algorithm:"
   ]
  },
  {
   "cell_type": "code",
   "execution_count": 2,
   "id": "437969ff",
   "metadata": {},
   "outputs": [],
   "source": [
    "def evolutionary_algorithm_minimalization(t_max, \n",
    "                                          population_size, \n",
    "                                          pop_arg_num, \n",
    "                                          tournament_size, \n",
    "                                          elite, \n",
    "                                          sigma, \n",
    "                                          mutation_prob, \n",
    "                                          function_to_minimize):\n",
    "    \n",
    "    best_from_epoch = []\n",
    "    \n",
    "    P_t = init_population(population_size, pop_arg_num, function_to_minimize)\n",
    "    t = 0\n",
    "    x = find_best_individual(P_t)\n",
    "    while t < t_max:\n",
    "        R = selection(P_t, tournament_size)\n",
    "        M = mutation(R, sigma, mutation_prob, function_to_minimize)\n",
    "        K = recombination(M, function_to_minimize)\n",
    "        x_t = find_best_individual(K)\n",
    "        if x_t[-1] < x[-1]:\n",
    "            x = x_t\n",
    "        P_t = succession(P_t, K, elite)\n",
    "        best_from_epoch.append(x_t)\n",
    "        t += 1\n",
    "        \n",
    "    P_t = evaluate(P_t)\n",
    "    return x, best_from_epoch"
   ]
  },
  {
   "cell_type": "markdown",
   "id": "aebcfed4",
   "metadata": {},
   "source": [
    "#### Initialize population"
   ]
  },
  {
   "cell_type": "code",
   "execution_count": 3,
   "id": "76b4c060",
   "metadata": {},
   "outputs": [],
   "source": [
    "def init_population(population_size, population_dim, function_to_minimize):\n",
    "    # last element of point is value of function\n",
    "    population = []\n",
    "    # beggining search area is (-5,5) in every dim\n",
    "    for i in range(population_size):\n",
    "        point = []\n",
    "        for j in range(population_dim):\n",
    "            dim = random.random()*10-5\n",
    "            point.append(dim)\n",
    "        value = function_to_minimize(point)\n",
    "        point.append(value)\n",
    "            \n",
    "        population.append(point)\n",
    "    \n",
    "    return population"
   ]
  },
  {
   "cell_type": "markdown",
   "id": "df052246",
   "metadata": {},
   "source": [
    "#### Tournament Selection"
   ]
  },
  {
   "cell_type": "code",
   "execution_count": 4,
   "id": "41bc5952",
   "metadata": {},
   "outputs": [],
   "source": [
    "def selection(P_t, tournament_size):\n",
    "    R = []\n",
    "    for o in P_t:\n",
    "        tournament_participants = random.choices(P_t, k=tournament_size)\n",
    "        tournament_participants.append(o)\n",
    "        winner = min(tournament_participants, key=itemgetter(-1))\n",
    "        R.append(winner)\n",
    "    return R"
   ]
  },
  {
   "cell_type": "markdown",
   "id": "a57adcf2",
   "metadata": {},
   "source": [
    "#### Mutation "
   ]
  },
  {
   "cell_type": "code",
   "execution_count": 5,
   "id": "93b31358",
   "metadata": {},
   "outputs": [],
   "source": [
    "def mutation(R, sigma, mutation_prob, function_to_minimize):\n",
    "    M = []\n",
    "    for o in R:\n",
    "        new_o = o\n",
    "        if random.random()<mutation_prob:\n",
    "            new_o = []\n",
    "            for gen in o[:-1]:\n",
    "                new_gen = gen + sigma*random.gauss(0, 1)\n",
    "                new_o.append(new_gen)\n",
    "            new_o_value = function_to_minimize(new_o)\n",
    "            new_o.append(new_o_value)\n",
    "        M.append(new_o)\n",
    "    return M"
   ]
  },
  {
   "cell_type": "markdown",
   "id": "f9ea42aa",
   "metadata": {},
   "source": [
    "#### Recombination"
   ]
  },
  {
   "cell_type": "code",
   "execution_count": 6,
   "id": "dc4f3624",
   "metadata": {},
   "outputs": [],
   "source": [
    "def recombination(M, function_to_minimize):\n",
    "\n",
    "    K = []\n",
    "    alfa = 0.1\n",
    "    i = 0\n",
    "    while i<len(M)-1:\n",
    "        parent_1 = M[i]\n",
    "        parent_2 = M[i+1]\n",
    "        child_1 = []\n",
    "        child_2 = []\n",
    "        for j, parent_1_gen in enumerate(parent_1[:-1]):\n",
    "            parent_2_gen = parent_2[j]\n",
    "            child_1_gen = alfa * parent_1_gen + (1 - alfa) * parent_2_gen\n",
    "            child_2_gen = alfa * parent_2_gen + (1 - alfa) * parent_1_gen\n",
    "            child_1.append(child_1_gen)\n",
    "            child_2.append(child_2_gen)\n",
    "        child_1_value = function_to_minimize(child_1)\n",
    "        child_2_value = function_to_minimize(child_2)\n",
    "        child_1.append(child_1_value)\n",
    "        child_2.append(child_2_value)\n",
    "        K.append(child_1)\n",
    "        K.append(child_2)\n",
    "        \n",
    "        i+=2\n",
    "    return(K)"
   ]
  },
  {
   "cell_type": "code",
   "execution_count": 7,
   "id": "40f215a7",
   "metadata": {},
   "outputs": [],
   "source": [
    "def succession(P_t, K, k):\n",
    "    P_t_1 = K\n",
    "    elite = find_k_best(P_t, k)\n",
    "    for e in elite:\n",
    "        P_t_1.append(e)\n",
    "    P_t_1 = evaluate(P_t_1)\n",
    "    P_t_1 = P_t_1[:-k]\n",
    "\n",
    "    return P_t_1"
   ]
  },
  {
   "cell_type": "code",
   "execution_count": 8,
   "id": "e1934a88",
   "metadata": {},
   "outputs": [],
   "source": [
    "def evaluate(population):\n",
    "    return sorted(population, key=itemgetter(-1))"
   ]
  },
  {
   "cell_type": "code",
   "execution_count": 9,
   "id": "66d89e8d",
   "metadata": {},
   "outputs": [],
   "source": [
    "def find_k_best(population, k):\n",
    "    pop = evaluate(population)\n",
    "    return population[:k]"
   ]
  },
  {
   "cell_type": "code",
   "execution_count": 10,
   "id": "4118aaf1",
   "metadata": {},
   "outputs": [],
   "source": [
    " def bird_function(args):\n",
    "    x, y = args\n",
    "    return np.sin(x)*(np.exp(1-np.cos(y))**2)+np.cos(y)*(np.exp(1-np.sin(x))**2)+(x-y)**2"
   ]
  },
  {
   "cell_type": "code",
   "execution_count": 11,
   "id": "66c07fc9",
   "metadata": {},
   "outputs": [],
   "source": [
    "def find_best_individual(pop):\n",
    "    return min(pop, key=itemgetter(-1))"
   ]
  },
  {
   "cell_type": "code",
   "execution_count": 79,
   "id": "7b43a07d",
   "metadata": {},
   "outputs": [
    {
     "data": {
      "image/png": "[encoded data removed]",
      "text/plain": [
       "<Figure size 432x288 with 1 Axes>"
      ]
     },
     "metadata": {
      "needs_background": "light"
     },
     "output_type": "display_data"
    },
    {
     "name": "stdout",
     "output_type": "stream",
     "text": [
      "x:  -1.5896407397162944\n",
      "y:  -3.122979436477448\n",
      "z:  -106.78773149642585\n"
     ]
    }
   ],
   "source": [
    "t_max = 50\n",
    "pop_size = 10\n",
    "pop_arg_num = 2\n",
    "tournament_size = 2\n",
    "elite = 1\n",
    "sigma = 0.1\n",
    "mutation_prob = 0.5\n",
    "function_to_minimize = bird_function\n",
    "\n",
    "x, best_x_in_epoch = evolutionary_algorithm_minimalization(t_max, \n",
    "                                      pop_size,\n",
    "                                      pop_arg_num,\n",
    "                                      tournament_size,\n",
    "                                      elite, sigma,\n",
    "                                      mutation_prob,\n",
    "                                      function_to_minimize)\n",
    "f_celu1 = []\n",
    "for x_t in best_x_in_epoch:\n",
    "    f_celu1.append(x_t[-1])\n",
    "plt.plot(f_celu1)\n",
    "plt.show()\n",
    "print('x: ', x[0])\n",
    "print('y: ', x[1])\n",
    "print('z: ', x[-1])"
   ]
  },
  {
   "cell_type": "markdown",
   "id": "588b3afd",
   "metadata": {},
   "source": [
    "### Experiments"
   ]
  },
  {
   "cell_type": "code",
   "execution_count": 78,
   "id": "f40ccb68",
   "metadata": {},
   "outputs": [
    {
     "data": {
      "image/png": "[encoded data removed]",
      "text/plain": [
       "<Figure size 432x288 with 1 Axes>"
      ]
     },
     "metadata": {
      "needs_background": "light"
     },
     "output_type": "display_data"
    }
   ],
   "source": [
    "t_max = 20\n",
    "pop_size = 100\n",
    "pop_arg_num = 2\n",
    "tournament_size = 2\n",
    "elite = 1\n",
    "sigma = 0.1\n",
    "mutation_prob = 0.5\n",
    "function_to_minimize = bird_function\n",
    "x, best_x_in_epoch = evolutionary_algorithm_minimalization(t_max, pop_size,pop_arg_num,tournament_size,elite, sigma,mutation_prob,function_to_minimize)\n",
    "f_celu = []\n",
    "for x_t in best_x_in_epoch:\n",
    "    f_celu.append(x_t[-1])\n",
    "plt.figure(1)\n",
    "plt.plot(f_celu, label='Elite: 1')\n",
    "\n",
    "\n",
    "elite = 10\n",
    "x, best_x_in_epoch = evolutionary_algorithm_minimalization(t_max, pop_size,pop_arg_num,tournament_size,elite, sigma,mutation_prob,function_to_minimize)\n",
    "f_celu = []\n",
    "for x_t in best_x_in_epoch:\n",
    "    f_celu.append(x_t[-1])\n",
    "plt.plot(f_celu, label='Elite: 10')\n",
    "plt.legend()\n",
    "\n",
    "elite = 20\n",
    "x, best_x_in_epoch = evolutionary_algorithm_minimalization(t_max, pop_size,pop_arg_num,tournament_size,elite, sigma,mutation_prob,function_to_minimize)\n",
    "f_celu = []\n",
    "for x_t in best_x_in_epoch:\n",
    "    f_celu.append(x_t[-1])\n",
    "plt.plot(f_celu, label='Elite: 20')\n",
    "plt.legend()\n",
    "plt.grid()\n",
    "\n",
    "plt.xlabel('iterations')\n",
    "plt.ylabel('Goal function')\n",
    "plt.show()"
   ]
  },
  {
   "cell_type": "code",
   "execution_count": null,
   "id": "1d740dcb",
   "metadata": {},
   "outputs": [],
   "source": []
  },
  {
   "cell_type": "code",
   "execution_count": null,
   "id": "519737bc",
   "metadata": {},
   "outputs": [],
   "source": []
  }
 ],
 "metadata": {
  "kernelspec": {
   "display_name": "Python 3",
   "language": "python",
   "name": "python3"
  },
  "language_info": {
   "codemirror_mode": {
    "name": "ipython",
    "version": 3
   },
   "file_extension": ".py",
   "mimetype": "text/x-python",
   "name": "python",
   "nbconvert_exporter": "python",
   "pygments_lexer": "ipython3",
   "version": "3.8.8"
  }
 },
 "nbformat": 4,
 "nbformat_minor": 5
}
