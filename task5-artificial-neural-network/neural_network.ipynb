{
 "cells": [
  {
   "cell_type": "code",
   "execution_count": 204,
   "id": "440a1725",
   "metadata": {},
   "outputs": [],
   "source": [
    "import pandas as pd\n",
    "import numpy as np\n",
    "from matplotlib import pyplot as plt\n",
    "from scipy.stats import norm\n",
    "from sklearn.metrics import confusion_matrix, f1_score, accuracy_score\n",
    "from sklearn.model_selection import train_test_split\n",
    "from sklearn.preprocessing import OneHotEncoder, StandardScaler"
   ]
  },
  {
   "cell_type": "markdown",
   "id": "4f8df58a",
   "metadata": {},
   "source": [
    "## Implementacja warstw"
   ]
  },
  {
   "cell_type": "code",
   "execution_count": 205,
   "id": "e14e2e4e",
   "metadata": {},
   "outputs": [],
   "source": [
    "class DenseLayer:\n",
    "    def __init__(self, input_size, output_size):\n",
    "        # self.weights = (\n",
    "        #     np.random.rand(input_size, output_size) - 0.5\n",
    "        # )  # TODO zamienić na inicjalizację z wykładu\n",
    "        self.weights = np.random.uniform(-1/np.sqrt(11),1/np.sqrt(11), (input_size, output_size))\n",
    "        self.bias = np.ones((1, output_size))\n",
    "\n",
    "    def forward_pass(self, input_data):\n",
    "        self.input = input_data\n",
    "        self.output = np.dot(self.input, self.weights) + self.bias\n",
    "        return self.output\n",
    "\n",
    "    def backward_pass(self, output_error, learning_rate):\n",
    "        input_error = np.dot(output_error, self.weights.T)\n",
    "        weights_error = np.dot(self.input.T, output_error)\n",
    "\n",
    "        self.weights -= learning_rate * weights_error\n",
    "        self.bias -= learning_rate * output_error\n",
    "        return input_error\n",
    "\n",
    "\n",
    "class ActivationLayer:\n",
    "    def __init__(self) -> None:\n",
    "        # self.activation = self.sigmoid\n",
    "        # self.activation_prime = self.sigmoid_prime\n",
    "        self.activation = self.sigmoid\n",
    "        self.activation_prime = self.sigmoid_prime\n",
    "\n",
    "    def forward_pass(self, input_data):\n",
    "        self.input = input_data\n",
    "        self.output = self.activation(self.input)\n",
    "        return self.output\n",
    "\n",
    "    def backward_pass(self, output_error, learning_rate):\n",
    "        return self.activation_prime(self.input) * output_error\n",
    "\n",
    "    def sigmoid(self, x):\n",
    "        return 1 / (1 + np.exp(-x))\n",
    "\n",
    "    def sigmoid_prime(self, x):\n",
    "        return self.sigmoid(x) * (1 - self.sigmoid(x))\n",
    "\n",
    "    def tanh(self, x):\n",
    "        return np.tanh(x)\n",
    "\n",
    "    def tanh_prime(self, x):\n",
    "        return 1 - np.tanh(x) ** 2"
   ]
  },
  {
   "cell_type": "markdown",
   "id": "c2eb80e7",
   "metadata": {},
   "source": [
    "## Implementacja sztucznej sieci neuronowej"
   ]
  },
  {
   "cell_type": "code",
   "execution_count": 206,
   "id": "142afdd5",
   "metadata": {},
   "outputs": [],
   "source": [
    "class ANN:\n",
    "    def __init__(self):\n",
    "        self.layers = []\n",
    "        self.loss = self.mse\n",
    "        self.loss_prime = self.mse_prime\n",
    "\n",
    "    def mse(self, y, y_pred):\n",
    "        return np.mean(np.power(y - y_pred, 2))\n",
    "\n",
    "    def mse_prime(self, y, y_pred):\n",
    "        return 2 * (y_pred - y) / y.size\n",
    "\n",
    "\n",
    "    def fit(self, X_train, y_train, learning_rate, epochs_num, X_test, y_test):\n",
    "        x_train_transformed = X_train.reshape(X_train.shape[0], 1, X_train.shape[1] )\n",
    "        err_list = []\n",
    "        enc = OneHotEncoder(handle_unknown='ignore')\n",
    "        enc.fit(np.array(y_train).reshape(-1,1))\n",
    "        y_train_transformed = enc.transform(np.array(y_train).reshape(-1,1)).toarray()\n",
    "        x_test_transformed = X_test.reshape(X_test.shape[0], 1, X_test.shape[1] )\n",
    "        for epoch_num in range(epochs_num):\n",
    "            err = 0\n",
    "            for i in range(len(x_train_transformed)):\n",
    "                output = x_train_transformed[i]\n",
    "                for layer in self.layers:\n",
    "                    output = layer.forward_pass(output)\n",
    "\n",
    "                err += self.loss(y_train_transformed[i], output)\n",
    "\n",
    "                error = self.loss_prime(y_train_transformed[i], output)\n",
    "\n",
    "                for layer in reversed(self.layers):\n",
    "                    error = layer.backward_pass(error, learning_rate)\n",
    "            err /= len(x_train_transformed)\n",
    "            \n",
    "            err_list.append(err)\n",
    "            \n",
    "            out = net.predict(x_test_transformed)\n",
    "            train_out = net.predict(x_train_transformed)\n",
    "            \n",
    "            preds_arg = np.array([np.argmax(prediction) for prediction in out])\n",
    "            preds = [list(enc.categories_)[0][pred] for pred in preds_arg]\n",
    "            preds_arg_train = np.array([np.argmax(prediction) for prediction in train_out])\n",
    "            preds_train = [list(enc.categories_)[0][pred] for pred in preds_arg_train]\n",
    "            \n",
    "            y_true = y_test.to_list()\n",
    "            y_true_train = y_train.to_list()\n",
    "            \n",
    "            test_accuracy = accuracy_score(y_true, preds)\n",
    "            train_accuracy = accuracy_score(y_true_train, preds_train)\n",
    "            \n",
    "            if (epoch_num+1)%25==0 or epoch_num==0:\n",
    "                print(\"epoch %d/%d   error=%f    test accuracy: %f     train accuracy: %f\" % (epoch_num + 1, epochs_num, err, test_accuracy, train_accuracy))\n",
    "\n",
    "        return err_list\n",
    "\n",
    "    def predict(self, X_train):\n",
    "        result = []\n",
    "        for x in X_train:\n",
    "            output = x\n",
    "            for layer in self.layers:\n",
    "                output = layer.forward_pass(output)\n",
    "\n",
    "            result.append(output)\n",
    "\n",
    "        return result\n",
    "\n",
    "    def add(self, layer):\n",
    "        self.layers.append(layer)\n",
    "\n",
    "    def set(self, shape):\n",
    "        for idx in range(len(shape) - 1):\n",
    "            self.add(DenseLayer(shape[idx], shape[idx + 1]))\n",
    "            self.add(ActivationLayer())"
   ]
  },
  {
   "cell_type": "markdown",
   "id": "27af3e6d",
   "metadata": {},
   "source": [
    "## Import danych i ich podział na X i y"
   ]
  },
  {
   "cell_type": "code",
   "execution_count": 207,
   "id": "179cd48b",
   "metadata": {},
   "outputs": [],
   "source": [
    "main_df = pd.read_csv('data/winequality-red.csv', sep=';')\n",
    "y = main_df.quality\n",
    "X = main_df.drop(columns=[\"quality\"])"
   ]
  },
  {
   "cell_type": "markdown",
   "id": "65da5c94",
   "metadata": {},
   "source": [
    "## Normalizacja danych oraz podzielenie na zbiór testowy i treningowy"
   ]
  },
  {
   "cell_type": "code",
   "execution_count": 208,
   "id": "8e8d06c9",
   "metadata": {},
   "outputs": [
    {
     "name": "stdout",
     "output_type": "stream",
     "text": [
      "(959, 11)\n",
      "(640, 11)\n",
      "(959,)\n",
      "(640,)\n"
     ]
    },
    {
     "data": {
      "text/plain": [
       "OneHotEncoder(handle_unknown='ignore')"
      ]
     },
     "execution_count": 208,
     "metadata": {},
     "output_type": "execute_result"
    }
   ],
   "source": [
    "scaler = StandardScaler()\n",
    "X = scaler.fit_transform(X)\n",
    "X_train, X_test, y_train, y_test = train_test_split(X,y, test_size=0.4, random_state=42)\n",
    "print(X_train.shape)\n",
    "print(X_test.shape)\n",
    "print(y_train.shape)\n",
    "print(y_test.shape)\n",
    "enc = OneHotEncoder(handle_unknown='ignore')\n",
    "enc.fit(np.array(y_train).reshape(-1,1))"
   ]
  },
  {
   "cell_type": "markdown",
   "id": "41eba2dc",
   "metadata": {},
   "source": [
    "## Uczenie sieci"
   ]
  },
  {
   "cell_type": "markdown",
   "id": "3ce672db",
   "metadata": {},
   "source": [
    "### Eksperyment 1"
   ]
  },
  {
   "cell_type": "code",
   "execution_count": 209,
   "id": "32c6752f",
   "metadata": {},
   "outputs": [
    {
     "name": "stdout",
     "output_type": "stream",
     "text": [
      "epoch 1/500   error=0.113971    test accuracy: 0.410938     train accuracy: 0.447341\n",
      "epoch 25/500   error=0.087352    test accuracy: 0.570312     train accuracy: 0.603754\n",
      "epoch 50/500   error=0.084662    test accuracy: 0.585938     train accuracy: 0.619395\n",
      "epoch 75/500   error=0.082452    test accuracy: 0.589063     train accuracy: 0.638165\n",
      "epoch 100/500   error=0.080294    test accuracy: 0.600000     train accuracy: 0.650678\n",
      "epoch 125/500   error=0.078293    test accuracy: 0.596875     train accuracy: 0.656934\n",
      "epoch 150/500   error=0.076013    test accuracy: 0.604688     train accuracy: 0.678832\n",
      "epoch 175/500   error=0.073107    test accuracy: 0.609375     train accuracy: 0.696559\n",
      "epoch 200/500   error=0.070094    test accuracy: 0.614062     train accuracy: 0.715328\n",
      "epoch 225/500   error=0.067197    test accuracy: 0.615625     train accuracy: 0.725756\n",
      "epoch 250/500   error=0.064373    test accuracy: 0.615625     train accuracy: 0.740355\n",
      "epoch 275/500   error=0.061727    test accuracy: 0.618750     train accuracy: 0.751825\n",
      "epoch 300/500   error=0.059236    test accuracy: 0.620313     train accuracy: 0.767466\n",
      "epoch 325/500   error=0.056963    test accuracy: 0.612500     train accuracy: 0.777894\n",
      "epoch 350/500   error=0.054931    test accuracy: 0.610938     train accuracy: 0.798749\n",
      "epoch 375/500   error=0.053091    test accuracy: 0.615625     train accuracy: 0.810219\n",
      "epoch 400/500   error=0.051407    test accuracy: 0.612500     train accuracy: 0.816475\n",
      "epoch 425/500   error=0.049858    test accuracy: 0.612500     train accuracy: 0.824818\n",
      "epoch 450/500   error=0.048434    test accuracy: 0.614062     train accuracy: 0.828989\n",
      "epoch 475/500   error=0.047107    test accuracy: 0.618750     train accuracy: 0.834202\n",
      "epoch 500/500   error=0.045849    test accuracy: 0.610938     train accuracy: 0.839416\n"
     ]
    }
   ],
   "source": [
    "net = ANN()\n",
    "net.set((11, 50, 6))\n",
    "err_list = net.fit(X_train, y_train, epochs_num=500, learning_rate=0.1, X_test=X_test, y_test=y_test)"
   ]
  },
  {
   "cell_type": "code",
   "execution_count": 210,
   "id": "8e43b314",
   "metadata": {},
   "outputs": [],
   "source": [
    "out = net.predict(X_test)\n",
    "train_out = net.predict(X_train)"
   ]
  },
  {
   "cell_type": "code",
   "execution_count": 211,
   "id": "7f22e197",
   "metadata": {},
   "outputs": [],
   "source": [
    "preds_arg = np.array([np.argmax(prediction) for prediction in out])\n",
    "preds = [list(enc.categories_)[0][pred] for pred in preds_arg]\n",
    "preds_arg_train = np.array([np.argmax(prediction) for prediction in train_out])\n",
    "preds_train = [list(enc.categories_)[0][pred] for pred in preds_arg_train]\n",
    "y_true = y_test.to_list()\n",
    "y_true_train = y_train.to_list()"
   ]
  },
  {
   "cell_type": "code",
   "execution_count": 212,
   "id": "ad495ae0",
   "metadata": {},
   "outputs": [
    {
     "name": "stdout",
     "output_type": "stream",
     "text": [
      "Accuracy test: 0.6109375\n",
      "Accuracy train: 0.8394160583941606\n"
     ]
    },
    {
     "data": {
      "image/png": "[encoded data removed]",
      "text/plain": [
       "<Figure size 432x288 with 1 Axes>"
      ]
     },
     "metadata": {
      "needs_background": "light"
     },
     "output_type": "display_data"
    }
   ],
   "source": [
    "print('Accuracy test:', accuracy_score(y_true, preds))\n",
    "print('Accuracy train:', accuracy_score(y_true_train, preds_train))\n",
    "plt.plot(err_list);"
   ]
  },
  {
   "cell_type": "markdown",
   "id": "0fa8a5cc",
   "metadata": {},
   "source": [
    "### Eksperyment 2 - liczba epok: 500 , współczynnik uczenia = 0.4 ( duży )"
   ]
  },
  {
   "cell_type": "code",
   "execution_count": 213,
   "id": "d08288f0",
   "metadata": {},
   "outputs": [
    {
     "name": "stdout",
     "output_type": "stream",
     "text": [
      "epoch 1/500   error=0.106933    test accuracy: 0.562500     train accuracy: 0.578728\n",
      "epoch 25/500   error=0.086051    test accuracy: 0.585938     train accuracy: 0.633994\n",
      "epoch 50/500   error=0.077308    test accuracy: 0.600000     train accuracy: 0.689260\n",
      "epoch 75/500   error=0.067830    test accuracy: 0.596875     train accuracy: 0.724713\n",
      "epoch 100/500   error=0.058709    test accuracy: 0.564063     train accuracy: 0.749739\n",
      "epoch 125/500   error=0.052284    test accuracy: 0.571875     train accuracy: 0.773723\n",
      "epoch 150/500   error=0.046507    test accuracy: 0.571875     train accuracy: 0.801877\n",
      "epoch 175/500   error=0.041740    test accuracy: 0.568750     train accuracy: 0.819604\n",
      "epoch 200/500   error=0.037825    test accuracy: 0.575000     train accuracy: 0.826903\n",
      "epoch 225/500   error=0.033896    test accuracy: 0.581250     train accuracy: 0.852972\n",
      "epoch 250/500   error=0.030726    test accuracy: 0.584375     train accuracy: 0.866528\n",
      "epoch 275/500   error=0.028264    test accuracy: 0.579688     train accuracy: 0.880083\n",
      "epoch 300/500   error=0.026057    test accuracy: 0.576562     train accuracy: 0.890511\n",
      "epoch 325/500   error=0.024185    test accuracy: 0.587500     train accuracy: 0.903024\n",
      "epoch 350/500   error=0.022669    test accuracy: 0.590625     train accuracy: 0.913452\n",
      "epoch 375/500   error=0.021434    test accuracy: 0.593750     train accuracy: 0.915537\n",
      "epoch 400/500   error=0.020327    test accuracy: 0.604688     train accuracy: 0.917623\n",
      "epoch 425/500   error=0.019344    test accuracy: 0.604688     train accuracy: 0.922836\n",
      "epoch 450/500   error=0.018448    test accuracy: 0.607812     train accuracy: 0.927007\n",
      "epoch 475/500   error=0.017805    test accuracy: 0.606250     train accuracy: 0.929093\n",
      "epoch 500/500   error=0.017000    test accuracy: 0.603125     train accuracy: 0.932221\n"
     ]
    }
   ],
   "source": [
    "net = ANN()\n",
    "net.set((11, 50, 6))\n",
    "err_list = net.fit(X_train, y_train, epochs_num=500, learning_rate=0.4, X_test=X_test, y_test=y_test)\n",
    "out = net.predict(X_test)\n",
    "train_out = net.predict(X_train)\n",
    "preds_arg = np.array([np.argmax(prediction) for prediction in out])\n",
    "preds = [list(enc.categories_)[0][pred] for pred in preds_arg]\n",
    "preds_arg_train = np.array([np.argmax(prediction) for prediction in train_out])\n",
    "preds_train = [list(enc.categories_)[0][pred] for pred in preds_arg_train]\n",
    "y_true = y_test.to_list()\n",
    "y_true_train = y_train.to_list()"
   ]
  },
  {
   "cell_type": "code",
   "execution_count": 214,
   "id": "c78d3c55",
   "metadata": {},
   "outputs": [
    {
     "name": "stdout",
     "output_type": "stream",
     "text": [
      "Accuracy test: 0.603125\n",
      "Accuracy train: 0.9322210636079249\n"
     ]
    },
    {
     "data": {
      "image/png": "[encoded data removed]",
      "text/plain": [
       "<Figure size 432x288 with 1 Axes>"
      ]
     },
     "metadata": {
      "needs_background": "light"
     },
     "output_type": "display_data"
    }
   ],
   "source": [
    "print('Accuracy test:', accuracy_score(y_true, preds))\n",
    "print('Accuracy train:', accuracy_score(y_true_train, preds_train))\n",
    "plt.plot(err_list);"
   ]
  },
  {
   "cell_type": "markdown",
   "id": "ce3f704a",
   "metadata": {},
   "source": [
    "### Eksperyment 3 - liczba epok: 500, współczynnik uczenia = 0.05 "
   ]
  },
  {
   "cell_type": "code",
   "execution_count": 215,
   "id": "4b617f02",
   "metadata": {},
   "outputs": [
    {
     "name": "stdout",
     "output_type": "stream",
     "text": [
      "epoch 1/500   error=0.120601    test accuracy: 0.387500     train accuracy: 0.406674\n",
      "epoch 25/500   error=0.087744    test accuracy: 0.570312     train accuracy: 0.604797\n",
      "epoch 50/500   error=0.086273    test accuracy: 0.579688     train accuracy: 0.607925\n",
      "epoch 75/500   error=0.084942    test accuracy: 0.579688     train accuracy: 0.619395\n",
      "epoch 100/500   error=0.083569    test accuracy: 0.581250     train accuracy: 0.623566\n",
      "epoch 125/500   error=0.082301    test accuracy: 0.589063     train accuracy: 0.642336\n",
      "epoch 150/500   error=0.081134    test accuracy: 0.584375     train accuracy: 0.645464\n",
      "epoch 175/500   error=0.080005    test accuracy: 0.584375     train accuracy: 0.646507\n",
      "epoch 200/500   error=0.078894    test accuracy: 0.589063     train accuracy: 0.657977\n",
      "epoch 225/500   error=0.077821    test accuracy: 0.603125     train accuracy: 0.657977\n",
      "epoch 250/500   error=0.076775    test accuracy: 0.607812     train accuracy: 0.661105\n",
      "epoch 275/500   error=0.075729    test accuracy: 0.607812     train accuracy: 0.669447\n",
      "epoch 300/500   error=0.074637    test accuracy: 0.610938     train accuracy: 0.675704\n",
      "epoch 325/500   error=0.073445    test accuracy: 0.609375     train accuracy: 0.687174\n",
      "epoch 350/500   error=0.072142    test accuracy: 0.610938     train accuracy: 0.694473\n",
      "epoch 375/500   error=0.070793    test accuracy: 0.607812     train accuracy: 0.698644\n",
      "epoch 400/500   error=0.069458    test accuracy: 0.604688     train accuracy: 0.715328\n",
      "epoch 425/500   error=0.068135    test accuracy: 0.607812     train accuracy: 0.724713\n",
      "epoch 450/500   error=0.066789    test accuracy: 0.609375     train accuracy: 0.737226\n",
      "epoch 475/500   error=0.065398    test accuracy: 0.610938     train accuracy: 0.743483\n",
      "epoch 500/500   error=0.063980    test accuracy: 0.604688     train accuracy: 0.755996\n"
     ]
    }
   ],
   "source": [
    "net = ANN()\n",
    "net.set((11, 50, 6))\n",
    "err_list = net.fit(X_train, y_train, epochs_num=500, learning_rate=0.05, X_test=X_test, y_test=y_test);\n",
    "out = net.predict(X_test)\n",
    "train_out = net.predict(X_train)\n",
    "preds_arg = np.array([np.argmax(prediction) for prediction in out])\n",
    "preds = [list(enc.categories_)[0][pred] for pred in preds_arg]\n",
    "preds_arg_train = np.array([np.argmax(prediction) for prediction in train_out])\n",
    "preds_train = [list(enc.categories_)[0][pred] for pred in preds_arg_train]\n",
    "y_true = y_test.to_list()\n",
    "y_true_train = y_train.to_list()"
   ]
  },
  {
   "cell_type": "code",
   "execution_count": 216,
   "id": "880ef9aa",
   "metadata": {},
   "outputs": [
    {
     "name": "stdout",
     "output_type": "stream",
     "text": [
      "Accuracy test: 0.6046875\n",
      "Accuracy train: 0.7559958289885297\n"
     ]
    },
    {
     "data": {
      "image/png": "[encoded data removed]",
      "text/plain": [
       "<Figure size 432x288 with 1 Axes>"
      ]
     },
     "metadata": {
      "needs_background": "light"
     },
     "output_type": "display_data"
    }
   ],
   "source": [
    "print('Accuracy test:', accuracy_score(y_true, preds))\n",
    "print('Accuracy train:', accuracy_score(y_true_train, preds_train))\n",
    "plt.plot(err_list);"
   ]
  },
  {
   "cell_type": "markdown",
   "id": "6c1fa4f2",
   "metadata": {},
   "source": [
    "### Eksperyment 4 - liczba epok: 2000, współczynnik uczenia = 0.05 "
   ]
  },
  {
   "cell_type": "code",
   "execution_count": 217,
   "id": "95d0f901",
   "metadata": {},
   "outputs": [
    {
     "name": "stdout",
     "output_type": "stream",
     "text": [
      "epoch 1/2000   error=0.118841    test accuracy: 0.389062     train accuracy: 0.407716\n",
      "epoch 25/2000   error=0.087552    test accuracy: 0.565625     train accuracy: 0.602711\n",
      "epoch 50/2000   error=0.085825    test accuracy: 0.579688     train accuracy: 0.607925\n",
      "epoch 75/2000   error=0.084455    test accuracy: 0.579688     train accuracy: 0.618352\n",
      "epoch 100/2000   error=0.083210    test accuracy: 0.589063     train accuracy: 0.630865\n",
      "epoch 125/2000   error=0.081964    test accuracy: 0.592187     train accuracy: 0.641293\n",
      "epoch 150/2000   error=0.080664    test accuracy: 0.592187     train accuracy: 0.644421\n",
      "epoch 175/2000   error=0.079389    test accuracy: 0.595313     train accuracy: 0.655892\n",
      "epoch 200/2000   error=0.078145    test accuracy: 0.601562     train accuracy: 0.662148\n",
      "epoch 225/2000   error=0.076865    test accuracy: 0.612500     train accuracy: 0.669447\n",
      "epoch 250/2000   error=0.075526    test accuracy: 0.620313     train accuracy: 0.674661\n",
      "epoch 275/2000   error=0.074146    test accuracy: 0.614062     train accuracy: 0.683003\n",
      "epoch 300/2000   error=0.072742    test accuracy: 0.617188     train accuracy: 0.697602\n",
      "epoch 325/2000   error=0.071295    test accuracy: 0.615625     train accuracy: 0.703858\n",
      "epoch 350/2000   error=0.069810    test accuracy: 0.614062     train accuracy: 0.712200\n",
      "epoch 375/2000   error=0.068352    test accuracy: 0.610938     train accuracy: 0.721585\n",
      "epoch 400/2000   error=0.066936    test accuracy: 0.607812     train accuracy: 0.732013\n",
      "epoch 425/2000   error=0.065549    test accuracy: 0.604688     train accuracy: 0.742440\n",
      "epoch 450/2000   error=0.064164    test accuracy: 0.598437     train accuracy: 0.748697\n",
      "epoch 475/2000   error=0.062748    test accuracy: 0.600000     train accuracy: 0.752868\n",
      "epoch 500/2000   error=0.061299    test accuracy: 0.603125     train accuracy: 0.758081\n",
      "epoch 525/2000   error=0.059867    test accuracy: 0.601562     train accuracy: 0.767466\n",
      "epoch 550/2000   error=0.058462    test accuracy: 0.595313     train accuracy: 0.768509\n",
      "epoch 575/2000   error=0.057067    test accuracy: 0.592187     train accuracy: 0.775808\n",
      "epoch 600/2000   error=0.055703    test accuracy: 0.589063     train accuracy: 0.784150\n",
      "epoch 625/2000   error=0.054400    test accuracy: 0.596875     train accuracy: 0.791449\n",
      "epoch 650/2000   error=0.053161    test accuracy: 0.589063     train accuracy: 0.798749\n",
      "epoch 675/2000   error=0.051985    test accuracy: 0.584375     train accuracy: 0.802920\n",
      "epoch 700/2000   error=0.050860    test accuracy: 0.579688     train accuracy: 0.807091\n",
      "epoch 725/2000   error=0.049774    test accuracy: 0.584375     train accuracy: 0.812304\n",
      "epoch 750/2000   error=0.048716    test accuracy: 0.579688     train accuracy: 0.820647\n",
      "epoch 775/2000   error=0.047683    test accuracy: 0.584375     train accuracy: 0.824818\n",
      "epoch 800/2000   error=0.046679    test accuracy: 0.581250     train accuracy: 0.832117\n",
      "epoch 825/2000   error=0.045705    test accuracy: 0.584375     train accuracy: 0.837331\n",
      "epoch 850/2000   error=0.044757    test accuracy: 0.587500     train accuracy: 0.846715\n",
      "epoch 875/2000   error=0.043834    test accuracy: 0.587500     train accuracy: 0.852972\n",
      "epoch 900/2000   error=0.042936    test accuracy: 0.584375     train accuracy: 0.854015\n",
      "epoch 925/2000   error=0.042065    test accuracy: 0.584375     train accuracy: 0.852972\n",
      "epoch 950/2000   error=0.041227    test accuracy: 0.575000     train accuracy: 0.855057\n",
      "epoch 975/2000   error=0.040424    test accuracy: 0.575000     train accuracy: 0.855057\n",
      "epoch 1000/2000   error=0.039654    test accuracy: 0.579688     train accuracy: 0.860271\n",
      "epoch 1025/2000   error=0.038914    test accuracy: 0.578125     train accuracy: 0.862357\n",
      "epoch 1050/2000   error=0.038201    test accuracy: 0.587500     train accuracy: 0.867570\n",
      "epoch 1075/2000   error=0.037511    test accuracy: 0.589063     train accuracy: 0.868613\n",
      "epoch 1100/2000   error=0.036835    test accuracy: 0.587500     train accuracy: 0.869656\n",
      "epoch 1125/2000   error=0.036181    test accuracy: 0.592187     train accuracy: 0.875912\n",
      "epoch 1150/2000   error=0.035552    test accuracy: 0.585938     train accuracy: 0.877998\n",
      "epoch 1175/2000   error=0.034945    test accuracy: 0.593750     train accuracy: 0.880083\n",
      "epoch 1200/2000   error=0.034356    test accuracy: 0.593750     train accuracy: 0.884254\n",
      "epoch 1225/2000   error=0.033784    test accuracy: 0.596875     train accuracy: 0.888425\n",
      "epoch 1250/2000   error=0.033228    test accuracy: 0.595313     train accuracy: 0.890511\n",
      "epoch 1275/2000   error=0.032684    test accuracy: 0.596875     train accuracy: 0.890511\n",
      "epoch 1300/2000   error=0.032150    test accuracy: 0.601562     train accuracy: 0.894682\n",
      "epoch 1325/2000   error=0.031624    test accuracy: 0.593750     train accuracy: 0.897810\n",
      "epoch 1350/2000   error=0.031103    test accuracy: 0.596875     train accuracy: 0.897810\n",
      "epoch 1375/2000   error=0.030580    test accuracy: 0.603125     train accuracy: 0.900938\n",
      "epoch 1400/2000   error=0.030023    test accuracy: 0.598437     train accuracy: 0.905109\n",
      "epoch 1425/2000   error=0.029497    test accuracy: 0.596875     train accuracy: 0.909281\n",
      "epoch 1450/2000   error=0.028993    test accuracy: 0.598437     train accuracy: 0.910323\n",
      "epoch 1475/2000   error=0.028504    test accuracy: 0.598437     train accuracy: 0.914494\n",
      "epoch 1500/2000   error=0.028027    test accuracy: 0.600000     train accuracy: 0.914494\n",
      "epoch 1525/2000   error=0.027566    test accuracy: 0.601562     train accuracy: 0.918665\n",
      "epoch 1550/2000   error=0.027120    test accuracy: 0.600000     train accuracy: 0.920751\n",
      "epoch 1575/2000   error=0.026692    test accuracy: 0.600000     train accuracy: 0.921794\n",
      "epoch 1600/2000   error=0.026279    test accuracy: 0.598437     train accuracy: 0.923879\n",
      "epoch 1625/2000   error=0.025881    test accuracy: 0.598437     train accuracy: 0.923879\n",
      "epoch 1650/2000   error=0.025496    test accuracy: 0.598437     train accuracy: 0.923879\n",
      "epoch 1675/2000   error=0.025121    test accuracy: 0.601562     train accuracy: 0.923879\n",
      "epoch 1700/2000   error=0.024756    test accuracy: 0.604688     train accuracy: 0.927007\n",
      "epoch 1725/2000   error=0.024400    test accuracy: 0.609375     train accuracy: 0.927007\n",
      "epoch 1750/2000   error=0.024051    test accuracy: 0.607812     train accuracy: 0.927007\n",
      "epoch 1775/2000   error=0.023710    test accuracy: 0.606250     train accuracy: 0.927007\n",
      "epoch 1800/2000   error=0.023376    test accuracy: 0.607812     train accuracy: 0.929093\n",
      "epoch 1825/2000   error=0.023047    test accuracy: 0.609375     train accuracy: 0.931178\n",
      "epoch 1850/2000   error=0.022721    test accuracy: 0.607812     train accuracy: 0.932221\n",
      "epoch 1875/2000   error=0.022406    test accuracy: 0.607812     train accuracy: 0.933264\n",
      "epoch 1900/2000   error=0.022105    test accuracy: 0.607812     train accuracy: 0.933264\n",
      "epoch 1925/2000   error=0.021816    test accuracy: 0.606250     train accuracy: 0.933264\n",
      "epoch 1950/2000   error=0.021537    test accuracy: 0.606250     train accuracy: 0.934307\n",
      "epoch 1975/2000   error=0.021267    test accuracy: 0.606250     train accuracy: 0.934307\n",
      "epoch 2000/2000   error=0.021004    test accuracy: 0.604688     train accuracy: 0.935349\n"
     ]
    }
   ],
   "source": [
    "net = ANN()\n",
    "net.set((11, 50, 6))\n",
    "err_list = net.fit(X_train, y_train, epochs_num=2000, learning_rate=0.05, X_test=X_test, y_test=y_test)\n",
    "out = net.predict(X_test)\n",
    "train_out = net.predict(X_train)\n",
    "preds_arg = np.array([np.argmax(prediction) for prediction in out])\n",
    "preds = [list(enc.categories_)[0][pred] for pred in preds_arg]\n",
    "preds_arg_train = np.array([np.argmax(prediction) for prediction in train_out])\n",
    "preds_train = [list(enc.categories_)[0][pred] for pred in preds_arg_train]\n",
    "y_true = y_test.to_list()\n",
    "y_true_train = y_train.to_list()"
   ]
  },
  {
   "cell_type": "code",
   "execution_count": 219,
   "id": "5ee89a8b",
   "metadata": {},
   "outputs": [
    {
     "name": "stdout",
     "output_type": "stream",
     "text": [
      "Accuracy test: 0.6046875\n",
      "Accuracy train: 0.935349322210636\n"
     ]
    },
    {
     "data": {
      "image/png": "[encoded data removed]",
      "text/plain": [
       "<Figure size 432x288 with 1 Axes>"
      ]
     },
     "metadata": {
      "needs_background": "light"
     },
     "output_type": "display_data"
    }
   ],
   "source": [
    "print('Accuracy test:', accuracy_score(y_true, preds))\n",
    "print('Accuracy train:', accuracy_score(y_true_train, preds_train))\n",
    "plt.plot(err_list);"
   ]
  },
  {
   "cell_type": "markdown",
   "id": "6c1fa4f2",
   "metadata": {},
   "source": [
    "### Eksperyment 5 - liczba epok: 2000, współczynnik uczenia = 0.05 "
   ]
  },
  {
   "cell_type": "code",
   "execution_count": 220,
   "id": "95d0f901",
   "metadata": {},
   "outputs": [
    {
     "name": "stdout",
     "output_type": "stream",
     "text": [
      "epoch 1/2000   error=0.110629    test accuracy: 0.446875     train accuracy: 0.470282\n",
      "epoch 25/2000   error=0.088089    test accuracy: 0.565625     train accuracy: 0.596455\n",
      "epoch 50/2000   error=0.086473    test accuracy: 0.579688     train accuracy: 0.601668\n",
      "epoch 75/2000   error=0.085091    test accuracy: 0.582812     train accuracy: 0.615224\n",
      "epoch 100/2000   error=0.083960    test accuracy: 0.587500     train accuracy: 0.620438\n",
      "epoch 125/2000   error=0.082905    test accuracy: 0.596875     train accuracy: 0.632951\n",
      "epoch 150/2000   error=0.081790    test accuracy: 0.598437     train accuracy: 0.640250\n",
      "epoch 175/2000   error=0.080637    test accuracy: 0.606250     train accuracy: 0.648592\n",
      "epoch 200/2000   error=0.079489    test accuracy: 0.600000     train accuracy: 0.661105\n",
      "epoch 225/2000   error=0.078342    test accuracy: 0.606250     train accuracy: 0.665276\n",
      "epoch 250/2000   error=0.077131    test accuracy: 0.603125     train accuracy: 0.675704\n",
      "epoch 275/2000   error=0.075826    test accuracy: 0.603125     train accuracy: 0.679875\n",
      "epoch 300/2000   error=0.074409    test accuracy: 0.606250     train accuracy: 0.683003\n",
      "epoch 325/2000   error=0.072871    test accuracy: 0.606250     train accuracy: 0.685089\n",
      "epoch 350/2000   error=0.071214    test accuracy: 0.609375     train accuracy: 0.694473\n",
      "epoch 375/2000   error=0.069488    test accuracy: 0.610938     train accuracy: 0.705944\n",
      "epoch 400/2000   error=0.067771    test accuracy: 0.610938     train accuracy: 0.717414\n",
      "epoch 425/2000   error=0.066090    test accuracy: 0.606250     train accuracy: 0.721585\n",
      "epoch 450/2000   error=0.064446    test accuracy: 0.604688     train accuracy: 0.728884\n",
      "epoch 475/2000   error=0.062863    test accuracy: 0.595313     train accuracy: 0.732013\n",
      "epoch 500/2000   error=0.061335    test accuracy: 0.590625     train accuracy: 0.743483\n",
      "epoch 525/2000   error=0.059859    test accuracy: 0.598437     train accuracy: 0.757039\n",
      "epoch 550/2000   error=0.058449    test accuracy: 0.601562     train accuracy: 0.766423\n",
      "epoch 575/2000   error=0.057082    test accuracy: 0.604688     train accuracy: 0.774765\n",
      "epoch 600/2000   error=0.055738    test accuracy: 0.601562     train accuracy: 0.779979\n",
      "epoch 625/2000   error=0.054405    test accuracy: 0.596875     train accuracy: 0.789364\n",
      "epoch 650/2000   error=0.053075    test accuracy: 0.593750     train accuracy: 0.791449\n",
      "epoch 675/2000   error=0.051746    test accuracy: 0.593750     train accuracy: 0.803962\n",
      "epoch 700/2000   error=0.050437    test accuracy: 0.600000     train accuracy: 0.810219\n",
      "epoch 725/2000   error=0.049165    test accuracy: 0.606250     train accuracy: 0.817518\n",
      "epoch 750/2000   error=0.047931    test accuracy: 0.603125     train accuracy: 0.822732\n",
      "epoch 775/2000   error=0.046728    test accuracy: 0.598437     train accuracy: 0.827946\n",
      "epoch 800/2000   error=0.045547    test accuracy: 0.601562     train accuracy: 0.835245\n",
      "epoch 825/2000   error=0.044386    test accuracy: 0.598437     train accuracy: 0.837331\n",
      "epoch 850/2000   error=0.043243    test accuracy: 0.600000     train accuracy: 0.841502\n",
      "epoch 875/2000   error=0.042123    test accuracy: 0.593750     train accuracy: 0.846715\n",
      "epoch 900/2000   error=0.041034    test accuracy: 0.592187     train accuracy: 0.855057\n",
      "epoch 925/2000   error=0.039982    test accuracy: 0.582812     train accuracy: 0.859228\n",
      "epoch 950/2000   error=0.038970    test accuracy: 0.578125     train accuracy: 0.865485\n",
      "epoch 975/2000   error=0.037995    test accuracy: 0.578125     train accuracy: 0.869656\n",
      "epoch 1000/2000   error=0.037049    test accuracy: 0.579688     train accuracy: 0.870699\n",
      "epoch 1025/2000   error=0.036122    test accuracy: 0.571875     train accuracy: 0.874870\n",
      "epoch 1050/2000   error=0.035219    test accuracy: 0.571875     train accuracy: 0.880083\n",
      "epoch 1075/2000   error=0.034360    test accuracy: 0.571875     train accuracy: 0.884254\n",
      "epoch 1100/2000   error=0.033552    test accuracy: 0.578125     train accuracy: 0.889468\n",
      "epoch 1125/2000   error=0.032786    test accuracy: 0.579688     train accuracy: 0.892596\n",
      "epoch 1150/2000   error=0.032049    test accuracy: 0.582812     train accuracy: 0.896767\n",
      "epoch 1175/2000   error=0.031331    test accuracy: 0.582812     train accuracy: 0.897810\n",
      "epoch 1200/2000   error=0.030629    test accuracy: 0.584375     train accuracy: 0.899896\n",
      "epoch 1225/2000   error=0.029940    test accuracy: 0.584375     train accuracy: 0.903024\n",
      "epoch 1250/2000   error=0.029265    test accuracy: 0.581250     train accuracy: 0.904067\n",
      "epoch 1275/2000   error=0.028607    test accuracy: 0.579688     train accuracy: 0.905109\n",
      "epoch 1300/2000   error=0.027966    test accuracy: 0.584375     train accuracy: 0.909281\n",
      "epoch 1325/2000   error=0.027335    test accuracy: 0.585938     train accuracy: 0.912409\n",
      "epoch 1350/2000   error=0.026715    test accuracy: 0.585938     train accuracy: 0.915537\n",
      "epoch 1375/2000   error=0.026108    test accuracy: 0.582812     train accuracy: 0.915537\n",
      "epoch 1400/2000   error=0.025519    test accuracy: 0.582812     train accuracy: 0.916580\n",
      "epoch 1425/2000   error=0.024953    test accuracy: 0.584375     train accuracy: 0.920751\n",
      "epoch 1450/2000   error=0.024411    test accuracy: 0.585938     train accuracy: 0.921794\n",
      "epoch 1475/2000   error=0.023892    test accuracy: 0.590625     train accuracy: 0.922836\n",
      "epoch 1500/2000   error=0.023395    test accuracy: 0.589063     train accuracy: 0.924922\n",
      "epoch 1525/2000   error=0.022918    test accuracy: 0.589063     train accuracy: 0.924922\n",
      "epoch 1550/2000   error=0.022458    test accuracy: 0.587500     train accuracy: 0.927007\n",
      "epoch 1575/2000   error=0.022010    test accuracy: 0.585938     train accuracy: 0.928050\n",
      "epoch 1600/2000   error=0.021573    test accuracy: 0.593750     train accuracy: 0.931178\n",
      "epoch 1625/2000   error=0.021152    test accuracy: 0.590625     train accuracy: 0.933264\n",
      "epoch 1650/2000   error=0.020744    test accuracy: 0.589063     train accuracy: 0.934307\n",
      "epoch 1675/2000   error=0.020350    test accuracy: 0.587500     train accuracy: 0.935349\n",
      "epoch 1700/2000   error=0.019977    test accuracy: 0.587500     train accuracy: 0.939520\n",
      "epoch 1725/2000   error=0.019624    test accuracy: 0.584375     train accuracy: 0.940563\n",
      "epoch 1750/2000   error=0.019287    test accuracy: 0.582812     train accuracy: 0.941606\n",
      "epoch 1775/2000   error=0.018963    test accuracy: 0.584375     train accuracy: 0.943691\n",
      "epoch 1800/2000   error=0.018652    test accuracy: 0.584375     train accuracy: 0.944734\n",
      "epoch 1825/2000   error=0.018352    test accuracy: 0.584375     train accuracy: 0.944734\n",
      "epoch 1850/2000   error=0.018063    test accuracy: 0.587500     train accuracy: 0.945777\n",
      "epoch 1875/2000   error=0.017786    test accuracy: 0.587500     train accuracy: 0.945777\n",
      "epoch 1900/2000   error=0.017518    test accuracy: 0.589063     train accuracy: 0.945777\n",
      "epoch 1925/2000   error=0.017259    test accuracy: 0.590625     train accuracy: 0.945777\n",
      "epoch 1950/2000   error=0.017007    test accuracy: 0.587500     train accuracy: 0.945777\n",
      "epoch 1975/2000   error=0.016761    test accuracy: 0.584375     train accuracy: 0.945777\n",
      "epoch 2000/2000   error=0.016521    test accuracy: 0.582812     train accuracy: 0.945777\n"
     ]
    }
   ],
   "source": [
    "net = ANN()\n",
    "net.set((11, 100, 6))\n",
    "err_list = net.fit(X_train, y_train, epochs_num=2000, learning_rate=0.05, X_test=X_test, y_test=y_test)\n",
    "out = net.predict(X_test)\n",
    "train_out = net.predict(X_train)\n",
    "preds_arg = np.array([np.argmax(prediction) for prediction in out])\n",
    "preds = [list(enc.categories_)[0][pred] for pred in preds_arg]\n",
    "preds_arg_train = np.array([np.argmax(prediction) for prediction in train_out])\n",
    "preds_train = [list(enc.categories_)[0][pred] for pred in preds_arg_train]\n",
    "y_true = y_test.to_list()\n",
    "y_true_train = y_train.to_list()"
   ]
  },
  {
   "cell_type": "code",
   "execution_count": 221,
   "id": "5ee89a8b",
   "metadata": {},
   "outputs": [
    {
     "name": "stdout",
     "output_type": "stream",
     "text": [
      "Accuracy test: 0.5828125\n",
      "Accuracy train: 0.9457768508863399\n"
     ]
    },
    {
     "data": {
      "image/png": "[encoded data removed]",
      "text/plain": [
       "<Figure size 432x288 with 1 Axes>"
      ]
     },
     "metadata": {
      "needs_background": "light"
     },
     "output_type": "display_data"
    }
   ],
   "source": [
    "print('Accuracy test:', accuracy_score(y_true, preds))\n",
    "print('Accuracy train:', accuracy_score(y_true_train, preds_train))\n",
    "plt.plot(err_list);"
   ]
  },
  {
   "cell_type": "markdown",
   "id": "6c1fa4f2",
   "metadata": {},
   "source": [
    "### Eksperyment 6 - liczba epok: 2000, współczynnik uczenia = 0.05 "
   ]
  },
  {
   "cell_type": "code",
   "execution_count": 222,
   "id": "95d0f901",
   "metadata": {},
   "outputs": [
    {
     "name": "stdout",
     "output_type": "stream",
     "text": [
      "epoch 1/2000   error=0.137142    test accuracy: 0.556250     train accuracy: 0.568300\n",
      "epoch 25/2000   error=0.102368    test accuracy: 0.562500     train accuracy: 0.596455\n",
      "epoch 50/2000   error=0.099785    test accuracy: 0.582812     train accuracy: 0.602711\n",
      "epoch 75/2000   error=0.097400    test accuracy: 0.579688     train accuracy: 0.599583\n",
      "epoch 100/2000   error=0.095500    test accuracy: 0.592187     train accuracy: 0.613139\n",
      "epoch 125/2000   error=0.094139    test accuracy: 0.590625     train accuracy: 0.623566\n",
      "epoch 150/2000   error=0.092921    test accuracy: 0.590625     train accuracy: 0.627737\n",
      "epoch 175/2000   error=0.091642    test accuracy: 0.595313     train accuracy: 0.632951\n",
      "epoch 200/2000   error=0.090290    test accuracy: 0.593750     train accuracy: 0.635036\n",
      "epoch 225/2000   error=0.088816    test accuracy: 0.593750     train accuracy: 0.631908\n",
      "epoch 250/2000   error=0.087294    test accuracy: 0.600000     train accuracy: 0.638165\n",
      "epoch 275/2000   error=0.085842    test accuracy: 0.600000     train accuracy: 0.642336\n",
      "epoch 300/2000   error=0.084350    test accuracy: 0.593750     train accuracy: 0.646507\n",
      "epoch 325/2000   error=0.082796    test accuracy: 0.589063     train accuracy: 0.649635\n",
      "epoch 350/2000   error=0.081268    test accuracy: 0.590625     train accuracy: 0.659020\n",
      "epoch 375/2000   error=0.079762    test accuracy: 0.603125     train accuracy: 0.667362\n",
      "epoch 400/2000   error=0.078255    test accuracy: 0.606250     train accuracy: 0.674661\n",
      "epoch 425/2000   error=0.076698    test accuracy: 0.604688     train accuracy: 0.672576\n",
      "epoch 450/2000   error=0.075069    test accuracy: 0.609375     train accuracy: 0.677789\n",
      "epoch 475/2000   error=0.073474    test accuracy: 0.612500     train accuracy: 0.689260\n",
      "epoch 500/2000   error=0.071908    test accuracy: 0.615625     train accuracy: 0.698644\n",
      "epoch 525/2000   error=0.070325    test accuracy: 0.614062     train accuracy: 0.701773\n",
      "epoch 550/2000   error=0.068734    test accuracy: 0.614062     train accuracy: 0.709072\n",
      "epoch 575/2000   error=0.067040    test accuracy: 0.612500     train accuracy: 0.726799\n",
      "epoch 600/2000   error=0.065469    test accuracy: 0.609375     train accuracy: 0.733055\n",
      "epoch 625/2000   error=0.063966    test accuracy: 0.607812     train accuracy: 0.737226\n",
      "epoch 650/2000   error=0.062451    test accuracy: 0.604688     train accuracy: 0.739312\n",
      "epoch 675/2000   error=0.061041    test accuracy: 0.604688     train accuracy: 0.741397\n",
      "epoch 700/2000   error=0.059712    test accuracy: 0.603125     train accuracy: 0.745568\n",
      "epoch 725/2000   error=0.058418    test accuracy: 0.603125     train accuracy: 0.744526\n",
      "epoch 750/2000   error=0.057144    test accuracy: 0.601562     train accuracy: 0.749739\n",
      "epoch 775/2000   error=0.055901    test accuracy: 0.593750     train accuracy: 0.750782\n",
      "epoch 800/2000   error=0.054668    test accuracy: 0.593750     train accuracy: 0.753910\n",
      "epoch 825/2000   error=0.053445    test accuracy: 0.593750     train accuracy: 0.762252\n",
      "epoch 850/2000   error=0.052286    test accuracy: 0.598437     train accuracy: 0.766423\n",
      "epoch 875/2000   error=0.051125    test accuracy: 0.600000     train accuracy: 0.773723\n",
      "epoch 900/2000   error=0.049996    test accuracy: 0.603125     train accuracy: 0.777894\n",
      "epoch 925/2000   error=0.048870    test accuracy: 0.595313     train accuracy: 0.779979\n",
      "epoch 950/2000   error=0.047718    test accuracy: 0.598437     train accuracy: 0.783107\n",
      "epoch 975/2000   error=0.046498    test accuracy: 0.595313     train accuracy: 0.786236\n",
      "epoch 1000/2000   error=0.045106    test accuracy: 0.593750     train accuracy: 0.795620\n",
      "epoch 1025/2000   error=0.043931    test accuracy: 0.595313     train accuracy: 0.796663\n",
      "epoch 1050/2000   error=0.042831    test accuracy: 0.592187     train accuracy: 0.800834\n",
      "epoch 1075/2000   error=0.041772    test accuracy: 0.589063     train accuracy: 0.805005\n",
      "epoch 1100/2000   error=0.040715    test accuracy: 0.584375     train accuracy: 0.811262\n",
      "epoch 1125/2000   error=0.039672    test accuracy: 0.582812     train accuracy: 0.817518\n",
      "epoch 1150/2000   error=0.038657    test accuracy: 0.592187     train accuracy: 0.820647\n",
      "epoch 1175/2000   error=0.037668    test accuracy: 0.595313     train accuracy: 0.826903\n",
      "epoch 1200/2000   error=0.036716    test accuracy: 0.600000     train accuracy: 0.831074\n",
      "epoch 1225/2000   error=0.035809    test accuracy: 0.601562     train accuracy: 0.838373\n",
      "epoch 1250/2000   error=0.034962    test accuracy: 0.604688     train accuracy: 0.840459\n",
      "epoch 1275/2000   error=0.034133    test accuracy: 0.609375     train accuracy: 0.844630\n",
      "epoch 1300/2000   error=0.033262    test accuracy: 0.615625     train accuracy: 0.848801\n",
      "epoch 1325/2000   error=0.032396    test accuracy: 0.612500     train accuracy: 0.850886\n",
      "epoch 1350/2000   error=0.031524    test accuracy: 0.606250     train accuracy: 0.855057\n",
      "epoch 1375/2000   error=0.030803    test accuracy: 0.606250     train accuracy: 0.855057\n",
      "epoch 1400/2000   error=0.030069    test accuracy: 0.604688     train accuracy: 0.862357\n",
      "epoch 1425/2000   error=0.029336    test accuracy: 0.598437     train accuracy: 0.863399\n",
      "epoch 1450/2000   error=0.028624    test accuracy: 0.600000     train accuracy: 0.866528\n",
      "epoch 1475/2000   error=0.027954    test accuracy: 0.598437     train accuracy: 0.867570\n",
      "epoch 1500/2000   error=0.027326    test accuracy: 0.598437     train accuracy: 0.869656\n",
      "epoch 1525/2000   error=0.026728    test accuracy: 0.598437     train accuracy: 0.876955\n",
      "epoch 1550/2000   error=0.026152    test accuracy: 0.596875     train accuracy: 0.880083\n",
      "epoch 1575/2000   error=0.025598    test accuracy: 0.596875     train accuracy: 0.881126\n",
      "epoch 1600/2000   error=0.025054    test accuracy: 0.596875     train accuracy: 0.884254\n",
      "epoch 1625/2000   error=0.024516    test accuracy: 0.595313     train accuracy: 0.887383\n",
      "epoch 1650/2000   error=0.023999    test accuracy: 0.596875     train accuracy: 0.890511\n",
      "epoch 1675/2000   error=0.023482    test accuracy: 0.596875     train accuracy: 0.891554\n",
      "epoch 1700/2000   error=0.023012    test accuracy: 0.600000     train accuracy: 0.890511\n",
      "epoch 1725/2000   error=0.022598    test accuracy: 0.596875     train accuracy: 0.892596\n",
      "epoch 1750/2000   error=0.022205    test accuracy: 0.593750     train accuracy: 0.894682\n",
      "epoch 1775/2000   error=0.021764    test accuracy: 0.595313     train accuracy: 0.895725\n",
      "epoch 1800/2000   error=0.021406    test accuracy: 0.595313     train accuracy: 0.895725\n",
      "epoch 1825/2000   error=0.021052    test accuracy: 0.600000     train accuracy: 0.894682\n",
      "epoch 1850/2000   error=0.020676    test accuracy: 0.601562     train accuracy: 0.899896\n",
      "epoch 1875/2000   error=0.020342    test accuracy: 0.590625     train accuracy: 0.900938\n",
      "epoch 1900/2000   error=0.019964    test accuracy: 0.590625     train accuracy: 0.900938\n",
      "epoch 1925/2000   error=0.019648    test accuracy: 0.589063     train accuracy: 0.904067\n",
      "epoch 1950/2000   error=0.019368    test accuracy: 0.584375     train accuracy: 0.901981\n",
      "epoch 1975/2000   error=0.019112    test accuracy: 0.576562     train accuracy: 0.898853\n",
      "epoch 2000/2000   error=0.018868    test accuracy: 0.571875     train accuracy: 0.896767\n"
     ]
    }
   ],
   "source": [
    "net = ANN()\n",
    "net.set((11, 1000, 6))\n",
    "err_list = net.fit(X_train, y_train, epochs_num=2000, learning_rate=0.05, X_test=X_test, y_test=y_test)\n",
    "out = net.predict(X_test)\n",
    "train_out = net.predict(X_train)\n",
    "preds_arg = np.array([np.argmax(prediction) for prediction in out])\n",
    "preds = [list(enc.categories_)[0][pred] for pred in preds_arg]\n",
    "preds_arg_train = np.array([np.argmax(prediction) for prediction in train_out])\n",
    "preds_train = [list(enc.categories_)[0][pred] for pred in preds_arg_train]\n",
    "y_true = y_test.to_list()\n",
    "y_true_train = y_train.to_list()"
   ]
  },
  {
   "cell_type": "code",
   "execution_count": 223,
   "id": "5ee89a8b",
   "metadata": {},
   "outputs": [
    {
     "name": "stdout",
     "output_type": "stream",
     "text": [
      "Accuracy test: 0.571875\n",
      "Accuracy train: 0.8967674661105318\n"
     ]
    },
    {
     "data": {
      "image/png": "[encoded data removed]",
      "text/plain": [
       "<Figure size 432x288 with 1 Axes>"
      ]
     },
     "metadata": {
      "needs_background": "light"
     },
     "output_type": "display_data"
    }
   ],
   "source": [
    "print('Accuracy test:', accuracy_score(y_true, preds))\n",
    "print('Accuracy train:', accuracy_score(y_true_train, preds_train))\n",
    "plt.plot(err_list);"
   ]
  },
  {
   "cell_type": "code",
   "execution_count": null,
   "id": "9e6753bf",
   "metadata": {},
   "outputs": [],
   "source": []
  }
 ],
 "metadata": {
  "kernelspec": {
   "display_name": "Python 3",
   "language": "python",
   "name": "python3"
  },
  "language_info": {
   "codemirror_mode": {
    "name": "ipython",
    "version": 3
   },
   "file_extension": ".py",
   "mimetype": "text/x-python",
   "name": "python",
   "nbconvert_exporter": "python",
   "pygments_lexer": "ipython3",
   "version": "3.8.8"
  }
 },
 "nbformat": 4,
 "nbformat_minor": 5
}
