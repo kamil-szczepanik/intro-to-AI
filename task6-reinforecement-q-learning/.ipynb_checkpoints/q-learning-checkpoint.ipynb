{
 "cells": [
  {
   "cell_type": "code",
   "execution_count": 187,
   "id": "8e03ede9",
   "metadata": {},
   "outputs": [],
   "source": [
    "import numpy as np\n",
    "from IPython.display import clear_output\n",
    "from time import sleep\n",
    "from colorama import Fore, Back, Style\n",
    "from matplotlib import pyplot as plt"
   ]
  },
  {
   "cell_type": "markdown",
   "id": "3d751bf6",
   "metadata": {},
   "source": [
    "## Maze Environment class\n",
    "MazeEnv implements environment for reinforecement q-learning task. It creates a maze based on input data. Function `step(action)` does transition from one state to another, returns new state, reward of action in current state and information wheater finish spot has been achieved."
   ]
  },
  {
   "cell_type": "code",
   "execution_count": 188,
   "id": "82df8500",
   "metadata": {},
   "outputs": [],
   "source": [
    "class MazeEnv:\n",
    "    def __init__(self, map):\n",
    "        self.map = self.get_map(map)\n",
    "        self.rows_num, self.cols_num = self.map.shape\n",
    "        self.columns_num = len(map[0])\n",
    "        self.rows_num = len(map)\n",
    "        self.actions = {0: \"south\", 1: \"north\", 2: \"east\", 3: \"west\"}\n",
    "        self.rewards = {\" \": -1, \"S\": -1,\"#\": -10, \"F\": 20}\n",
    "        self.states = self.get_states()\n",
    "        self.state = self.states[self.get_start()][0]\n",
    "        self.loc = self.decode_state(self.state)\n",
    "    \n",
    "        num_states = self.rows_num*self.cols_num\n",
    "        num_actions = len(self.actions)\n",
    "        self.P = {\n",
    "            state: {action: [] for action in range(num_actions)}\n",
    "            for state in range(num_states)\n",
    "        }\n",
    "\n",
    "    def get_start(self):\n",
    "        row, col = np.where(self.map == \"S\")\n",
    "        return row, col\n",
    "    \n",
    "    def get_finish(self):\n",
    "        row, col = np.where(self.map == \"F\")\n",
    "        return row, col\n",
    "    \n",
    "    def get_map(self, map):\n",
    "        spots = []\n",
    "        for row in map:\n",
    "            for spot in row:\n",
    "                spots.append(spot)\n",
    "        return np.reshape(spots, (len(map), len(map[0])))\n",
    "    \n",
    "    def get_states(self):\n",
    "        num_states = self.rows_num*self.cols_num\n",
    "        states = [num for num in range(num_states)]\n",
    "        return np.reshape(states, (self.rows_num, self.cols_num))\n",
    "        \n",
    "    def print_map(self):\n",
    "        map_copy = np.ndarray.tolist(self.map)\n",
    "        map_copy[self.loc[0]][self.loc[1]] = Back.GREEN + ' ' + Style.RESET_ALL\n",
    "        for row in map_copy:\n",
    "            to_print = \"\"\n",
    "            for spot in row:\n",
    "                to_print += spot\n",
    "            print(to_print)\n",
    "            \n",
    "    def print_map_road(self, coords):\n",
    "        map_copy = np.ndarray.tolist(self.map)\n",
    "        for coord in coords:\n",
    "            map_copy[coord[0]][coord[1]] = Fore.GREEN + 'o' + Style.RESET_ALL\n",
    "        for row in map_copy:\n",
    "            to_print = \"\"\n",
    "            for spot in row:\n",
    "                to_print += spot\n",
    "            print(to_print)\n",
    "            \n",
    "    def step(self, a):\n",
    "    \n",
    "        max_row = self.rows_num - 1\n",
    "        max_col = self.columns_num - 1\n",
    "        wall = '#'\n",
    "        new_row, new_col = self.loc\n",
    "        reward = -1  # default reward\n",
    "        done = False\n",
    "        (row, col) = self.loc\n",
    "\n",
    "        if action == 0:\n",
    "            if self.map[min(row + 1, max_row)][col] != '#':\n",
    "                new_row = min(row + 1, max_row)\n",
    "            else: reward = -10\n",
    "        elif action == 1:\n",
    "            if self.map[max(row - 1, 0)][col] != '#':\n",
    "                new_row = max(row - 1, 0)\n",
    "            else: reward = -10\n",
    "        if action == 2:\n",
    "            if self.map[row][min(col + 1, max_col)] != '#':\n",
    "                new_col = min(col + 1, max_col)\n",
    "            else: reward = -10\n",
    "        elif action == 3:\n",
    "            if self.map[row][max(col - 1, 0)] != '#':\n",
    "                new_col = max(col - 1, 0)\n",
    "            else: reward = -10\n",
    "\n",
    "        if (new_row, new_col) == self.get_finish():\n",
    "            done = True\n",
    "            reward = 20\n",
    "\n",
    "        new_state = self.encode_state(new_row, new_col)\n",
    "        self.state = new_state\n",
    "        self.loc = (new_row, new_col)\n",
    "        \n",
    "        return new_state, reward, done\n",
    "\n",
    "    \n",
    "    def encode_state(self, current_row, current_col):\n",
    "        state = current_row*self.columns_num + current_col\n",
    "        return state\n",
    "    \n",
    "    def decode_state(self, state):\n",
    "        row = int(state / self.columns_num)\n",
    "        col = state - row*self.columns_num\n",
    "        return row, col\n",
    "    \n",
    "    def reset(self):\n",
    "        self.state = self.states[self.get_start()][0]\n",
    "        self.loc = self.decode_state(self.state)\n",
    "        return self.state"
   ]
  },
  {
   "cell_type": "markdown",
   "id": "e0517bd4",
   "metadata": {},
   "source": [
    " ## Example 1"
   ]
  },
  {
   "cell_type": "code",
   "execution_count": 189,
   "id": "822edc0e",
   "metadata": {},
   "outputs": [],
   "source": [
    "map =  [\"#############\",\n",
    "        \"#  #       S#\",\n",
    "        \"#  #  #######\",\n",
    "        \"#           #\",\n",
    "        \"#######  #  #\",\n",
    "        \"#  #     #  #\",\n",
    "        \"#  #  #  #  #\",\n",
    "        \"#     #  # F#\",\n",
    "        \"#############\"]\n",
    "\n",
    "env = MazeEnv(map)"
   ]
  },
  {
   "cell_type": "markdown",
   "id": "4b5bab3d",
   "metadata": {},
   "source": [
    "### Training the agent - updating Q-Table based on state, action in that state and reward for it\n",
    "#### Params: `alpha = 0.1`, `gamma = 0.6`, `epsilon = 0.1`\n",
    "#### Number of episodes: `1001`"
   ]
  },
  {
   "cell_type": "code",
   "execution_count": 190,
   "id": "c32b1282",
   "metadata": {},
   "outputs": [
    {
     "name": "stdout",
     "output_type": "stream",
     "text": [
      "Episode: 1000\n",
      "Training finished.\n",
      "\n"
     ]
    }
   ],
   "source": [
    "q_table = np.zeros([env.columns_num*env.rows_num, 4])\n",
    "\n",
    "# Hyperparameters\n",
    "alpha = 0.1\n",
    "gamma = 0.6\n",
    "epsilon = 0.1\n",
    "\n",
    "# For plotting metrics\n",
    "all_epochs = []\n",
    "all_penalties = []\n",
    "\n",
    "for i in range(1, 1001):\n",
    "    \n",
    "    state = env.reset()\n",
    "    epochs, penalties, reward = (0, 0, 0)\n",
    "    done = False\n",
    "\n",
    "    while not done:\n",
    "        if np.random.uniform(0, 1) < epsilon:\n",
    "            action = np.random.randint(0, 3)  # Explore action space\n",
    "        else:\n",
    "            action = np.argmax(q_table[state])  # Exploit learned values\n",
    "\n",
    "        next_state, reward, done = env.step(action)\n",
    "\n",
    "        old_value = q_table[state, action]\n",
    "        next_max = np.max(q_table[next_state])\n",
    "\n",
    "        new_value = (1 - alpha) * old_value + alpha * (reward + gamma * next_max)\n",
    "        q_table[state, action] = new_value\n",
    "\n",
    "        if reward == -10:\n",
    "            penalties += 1\n",
    "\n",
    "        state = next_state\n",
    "        epochs += 1\n",
    "        \n",
    "        ## display maze while training\n",
    "#         env.print_map()\n",
    "#         print('epochs: ', epochs)\n",
    "#         clear_output(wait=True)\n",
    "    all_penalties.append(penalties)\n",
    "    all_epochs.append(epochs)\n",
    "\n",
    "    if i % 100 == 0:\n",
    "        clear_output(wait=True)\n",
    "        \n",
    "        print(f\"Episode: {i}\")\n",
    "\n",
    "print(\"Training finished.\\n\")"
   ]
  },
  {
   "cell_type": "code",
   "execution_count": 191,
   "id": "5e6ee2cd",
   "metadata": {},
   "outputs": [
    {
     "data": {
      "text/plain": [
       "Text(0, 0.5, 'steps')"
      ]
     },
     "execution_count": 191,
     "metadata": {},
     "output_type": "execute_result"
    },
    {
     "data": {
      "image/png": "[encoded data removed]",
      "text/plain": [
       "<Figure size 432x288 with 1 Axes>"
      ]
     },
     "metadata": {
      "needs_background": "light"
     },
     "output_type": "display_data"
    },
    {
     "data": {
      "image/png": "[encoded data removed]",
      "text/plain": [
       "<Figure size 432x288 with 1 Axes>"
      ]
     },
     "metadata": {
      "needs_background": "light"
     },
     "output_type": "display_data"
    }
   ],
   "source": [
    "plt.figure(1)\n",
    "plt.plot(all_penalties)\n",
    "plt.xlabel('epochs')\n",
    "plt.ylabel('penalties')\n",
    "plt.figure(2)\n",
    "plt.plot(all_epochs)\n",
    "plt.xlabel('epochs')\n",
    "plt.ylabel('steps')"
   ]
  },
  {
   "cell_type": "markdown",
   "id": "f01bb505",
   "metadata": {},
   "source": [
    "### Evaluate agent's performance after Q-learning"
   ]
  },
  {
   "cell_type": "code",
   "execution_count": 192,
   "id": "1a39ebeb",
   "metadata": {},
   "outputs": [
    {
     "name": "stdout",
     "output_type": "stream",
     "text": [
      "#############\n",
      "#  # \u001b[32mo\u001b[0m\u001b[32mo\u001b[0m\u001b[32mo\u001b[0m\u001b[32mo\u001b[0m\u001b[32mo\u001b[0m\u001b[32mo\u001b[0mS#\n",
      "#  # \u001b[32mo\u001b[0m#######\n",
      "#    \u001b[32mo\u001b[0m\u001b[32mo\u001b[0m\u001b[32mo\u001b[0m\u001b[32mo\u001b[0m\u001b[32mo\u001b[0m\u001b[32mo\u001b[0m #\n",
      "#######  #\u001b[32mo\u001b[0m\u001b[32mo\u001b[0m#\n",
      "#  #     # \u001b[32mo\u001b[0m#\n",
      "#  #  #  # \u001b[32mo\u001b[0m#\n",
      "#     #  # \u001b[32mo\u001b[0m#\n",
      "#############\n",
      "Results after 5 episodes:\n",
      "Average timesteps per episode: 18.0\n",
      "Average penalties per episode: 0.0\n"
     ]
    }
   ],
   "source": [
    "total_epochs, total_penalties = 0, 0\n",
    "episodes = 5\n",
    "\n",
    "for _ in range(episodes):\n",
    "    coords = []\n",
    "    state = env.reset()\n",
    "    epochs, penalties, reward = 0, 0, 0\n",
    "    \n",
    "    done = False\n",
    "    \n",
    "    while not done:\n",
    "        action = np.argmax(q_table[env.state])\n",
    "        next_state, reward, done = env.step(action)\n",
    "        coords.append(env.loc)\n",
    "\n",
    "        if reward == -10:\n",
    "            penalties += 1\n",
    "        epochs += 1\n",
    "\n",
    "        env.print_map()\n",
    "        sleep(.1)\n",
    "        clear_output(wait=True)\n",
    "        print('Action: ', env.actions[action])\n",
    "        print('Epoch :', epochs)\n",
    "\n",
    "    total_penalties += penalties\n",
    "    total_epochs += epochs\n",
    "clear_output(wait=True)\n",
    "env.print_map_road(coords)\n",
    "print(f\"Results after {episodes} episodes:\")\n",
    "print(f\"Average timesteps per episode: {total_epochs / episodes}\")\n",
    "print(f\"Average penalties per episode: {total_penalties / episodes}\")"
   ]
  },
  {
   "cell_type": "markdown",
   "id": "7b0db85a",
   "metadata": {},
   "source": [
    "## Example 2 - bigger map"
   ]
  },
  {
   "cell_type": "code",
   "execution_count": 193,
   "id": "ff51977e",
   "metadata": {},
   "outputs": [],
   "source": [
    "map =  ['#########################',\n",
    "        '#S             #     #  #',\n",
    "        '#  ##########  ####  #  #',\n",
    "        '#     #  #           #  #',\n",
    "        '#  #  #  ####  #######  #',\n",
    "        '#  #     #  #     #     #',\n",
    "        '#  ####  #  #  #  #  #  #',\n",
    "        '#  #        #  #     #  #',\n",
    "        '#  ####  #############  #',\n",
    "        '#  #                 #  #',\n",
    "        '#######  #  #######  #  #',\n",
    "        '#  #  #  #  #  #     #  #',\n",
    "        '#  #  ####  #  ####  ####',\n",
    "        '#           #  #     #  #',\n",
    "        '####  #  ####  #  ####  #',\n",
    "        '#     #     #          F#',\n",
    "        '#########################']\n",
    "\n",
    "env = MazeEnv(map)"
   ]
  },
  {
   "cell_type": "markdown",
   "id": "f8e0777a",
   "metadata": {},
   "source": [
    "#### Training the agent - updating Q-Table based on state, action in that state and reward for it\n",
    "##### Params: `alpha = 0.1`, `gamma = 0.6`, `epsilon = 0.1`\n",
    "##### Number of episodes: `1001`"
   ]
  },
  {
   "cell_type": "code",
   "execution_count": 194,
   "id": "b6156618",
   "metadata": {},
   "outputs": [
    {
     "name": "stdout",
     "output_type": "stream",
     "text": [
      "Episode: 1000\n",
      "Training finished.\n",
      "\n"
     ]
    }
   ],
   "source": [
    "q_table = np.zeros([env.columns_num*env.rows_num, 4])\n",
    "\n",
    "# Hyperparameters\n",
    "alpha = 0.1\n",
    "gamma = 0.6\n",
    "epsilon = 0.1\n",
    "\n",
    "# For plotting metrics\n",
    "all_epochs = []\n",
    "all_penalties = []\n",
    "\n",
    "for i in range(1, 1001):\n",
    "    \n",
    "    state = env.reset()\n",
    "    epochs, penalties, reward = (0, 0, 0)\n",
    "    done = False\n",
    "\n",
    "    while not done:\n",
    "        if np.random.uniform(0, 1) < epsilon:\n",
    "            action = np.random.randint(0, 3)  # Explore action space\n",
    "        else:\n",
    "            action = np.argmax(q_table[state])  # Exploit learned values\n",
    "\n",
    "        next_state, reward, done = env.step(action)\n",
    "\n",
    "        old_value = q_table[state, action]\n",
    "        next_max = np.max(q_table[next_state])\n",
    "\n",
    "        new_value = (1 - alpha) * old_value + alpha * (reward + gamma * next_max)\n",
    "        q_table[state, action] = new_value\n",
    "\n",
    "        if reward == -10:\n",
    "            penalties += 1\n",
    "\n",
    "        state = next_state\n",
    "        epochs += 1\n",
    "        \n",
    "        ## display maze while training\n",
    "#         env.print_map()\n",
    "#         print('epochs: ', epochs)\n",
    "#         clear_output(wait=True)\n",
    "\n",
    "    all_penalties.append(penalties)\n",
    "    all_epochs.append(epochs)\n",
    "\n",
    "    if i % 100 == 0:\n",
    "        clear_output(wait=True)\n",
    "        \n",
    "        print(f\"Episode: {i}\")\n",
    "\n",
    "print(\"Training finished.\\n\")"
   ]
  },
  {
   "cell_type": "code",
   "execution_count": 196,
   "id": "f18b21b0",
   "metadata": {},
   "outputs": [
    {
     "data": {
      "text/plain": [
       "Text(0, 0.5, 'steps')"
      ]
     },
     "execution_count": 196,
     "metadata": {},
     "output_type": "execute_result"
    },
    {
     "data": {
      "image/png": "[encoded data removed]",
      "text/plain": [
       "<Figure size 432x288 with 1 Axes>"
      ]
     },
     "metadata": {
      "needs_background": "light"
     },
     "output_type": "display_data"
    },
    {
     "data": {
      "image/png": "[encoded data removed]",
      "text/plain": [
       "<Figure size 432x288 with 1 Axes>"
      ]
     },
     "metadata": {
      "needs_background": "light"
     },
     "output_type": "display_data"
    }
   ],
   "source": [
    "plt.figure(1)\n",
    "plt.plot(all_penalties)\n",
    "plt.xlabel('epochs')\n",
    "plt.ylabel('penalties')\n",
    "plt.figure(2)\n",
    "plt.plot(all_epochs)\n",
    "plt.xlabel('epochs')\n",
    "plt.ylabel('steps')"
   ]
  },
  {
   "cell_type": "markdown",
   "id": "cb90c348",
   "metadata": {},
   "source": [
    "##### Evaluate agent's performance after Q-learning"
   ]
  },
  {
   "cell_type": "code",
   "execution_count": 197,
   "id": "72a1cfe9",
   "metadata": {},
   "outputs": [
    {
     "name": "stdout",
     "output_type": "stream",
     "text": [
      "#########################\n",
      "#S             #     #  #\n",
      "#\u001b[32mo\u001b[0m\u001b[32mo\u001b[0m##########  ####  #  #\n",
      "# \u001b[32mo\u001b[0m\u001b[32mo\u001b[0m\u001b[32mo\u001b[0m #  #           #  #\n",
      "#  #\u001b[32mo\u001b[0m\u001b[32mo\u001b[0m#  ####  #######  #\n",
      "#  # \u001b[32mo\u001b[0m\u001b[32mo\u001b[0m\u001b[32mo\u001b[0m #  #     #     #\n",
      "#  ####\u001b[32mo\u001b[0m #  #  #  #  #  #\n",
      "#  #   \u001b[32mo\u001b[0m\u001b[32mo\u001b[0m   #  #     #  #\n",
      "#  #### \u001b[32mo\u001b[0m#############  #\n",
      "#  #    \u001b[32mo\u001b[0m\u001b[32mo\u001b[0m\u001b[32mo\u001b[0m\u001b[32mo\u001b[0m\u001b[32mo\u001b[0m\u001b[32mo\u001b[0m\u001b[32mo\u001b[0m\u001b[32mo\u001b[0m\u001b[32mo\u001b[0m\u001b[32mo\u001b[0m\u001b[32mo\u001b[0m\u001b[32mo\u001b[0m #  #\n",
      "#######  #  #######\u001b[32mo\u001b[0m #  #\n",
      "#  #  #  #  #  #   \u001b[32mo\u001b[0m #  #\n",
      "#  #  ####  #  ####\u001b[32mo\u001b[0m ####\n",
      "#           #  # \u001b[32mo\u001b[0m\u001b[32mo\u001b[0m\u001b[32mo\u001b[0m #  #\n",
      "####  #  ####  # \u001b[32mo\u001b[0m####  #\n",
      "#     #     #    \u001b[32mo\u001b[0m\u001b[32mo\u001b[0m\u001b[32mo\u001b[0m\u001b[32mo\u001b[0m\u001b[32mo\u001b[0m\u001b[32mo\u001b[0m\u001b[32mo\u001b[0m#\n",
      "#########################\n",
      "Results after 3 episodes:\n",
      "Average timesteps per episode: 40.0\n",
      "Average penalties per episode: 0.0\n"
     ]
    }
   ],
   "source": [
    "total_epochs, total_penalties = 0, 0\n",
    "episodes = 3\n",
    "\n",
    "for _ in range(episodes):\n",
    "    coords = []\n",
    "    state = env.reset()\n",
    "    epochs, penalties, reward = 0, 0, 0\n",
    "    \n",
    "    done = False\n",
    "    \n",
    "    while not done:\n",
    "        action = np.argmax(q_table[env.state])\n",
    "        next_state, reward, done = env.step(action)\n",
    "        coords.append(env.loc)\n",
    "        \n",
    "\n",
    "        if reward == -10:\n",
    "            penalties += 1\n",
    "        epochs += 1\n",
    "\n",
    "        env.print_map()\n",
    "        sleep(.1)\n",
    "        clear_output(wait=True)\n",
    "        print('Action: ', env.actions[action])\n",
    "        print('Epoch :', epochs)\n",
    "\n",
    "    total_penalties += penalties\n",
    "    total_epochs += epochs\n",
    "clear_output(wait=True)\n",
    "env.print_map_road(coords)\n",
    "print(f\"Results after {episodes} episodes:\")\n",
    "print(f\"Average timesteps per episode: {total_epochs / episodes}\")\n",
    "print(f\"Average penalties per episode: {total_penalties / episodes}\")"
   ]
  },
  {
   "cell_type": "code",
   "execution_count": null,
   "id": "c9348de4",
   "metadata": {},
   "outputs": [],
   "source": []
  }
 ],
 "metadata": {
  "kernelspec": {
   "display_name": "Python 3",
   "language": "python",
   "name": "python3"
  },
  "language_info": {
   "codemirror_mode": {
    "name": "ipython",
    "version": 3
   },
   "file_extension": ".py",
   "mimetype": "text/x-python",
   "name": "python",
   "nbconvert_exporter": "python",
   "pygments_lexer": "ipython3",
   "version": "3.8.8"
  }
 },
 "nbformat": 4,
 "nbformat_minor": 5
}
