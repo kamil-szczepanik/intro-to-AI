{
 "cells": [
  {
   "cell_type": "markdown",
   "id": "bc25a215",
   "metadata": {},
   "source": [
    "# Task 4 - Naive Bayes Classifier "
   ]
  },
  {
   "cell_type": "code",
   "execution_count": 2,
   "id": "de2a8d6e",
   "metadata": {},
   "outputs": [],
   "source": [
    "import pandas as pd\n",
    "import numpy as np\n",
    "from matplotlib import pyplot as plt\n",
    "from scipy.stats import norm"
   ]
  },
  {
   "cell_type": "markdown",
   "id": "8dbaadb2",
   "metadata": {},
   "source": [
    "## Import data"
   ]
  },
  {
   "cell_type": "code",
   "execution_count": 3,
   "id": "46d44df5",
   "metadata": {},
   "outputs": [
    {
     "data": {
      "text/html": [
       "<div>\n",
       "<style scoped>\n",
       "    .dataframe tbody tr th:only-of-type {\n",
       "        vertical-align: middle;\n",
       "    }\n",
       "\n",
       "    .dataframe tbody tr th {\n",
       "        vertical-align: top;\n",
       "    }\n",
       "\n",
       "    .dataframe thead th {\n",
       "        text-align: right;\n",
       "    }\n",
       "</style>\n",
       "<table border=\"1\" class=\"dataframe\">\n",
       "  <thead>\n",
       "    <tr style=\"text-align: right;\">\n",
       "      <th></th>\n",
       "      <th>fixed acidity</th>\n",
       "      <th>volatile acidity</th>\n",
       "      <th>citric acid</th>\n",
       "      <th>residual sugar</th>\n",
       "      <th>chlorides</th>\n",
       "      <th>free sulfur dioxide</th>\n",
       "      <th>total sulfur dioxide</th>\n",
       "      <th>density</th>\n",
       "      <th>pH</th>\n",
       "      <th>sulphates</th>\n",
       "      <th>alcohol</th>\n",
       "      <th>quality</th>\n",
       "    </tr>\n",
       "  </thead>\n",
       "  <tbody>\n",
       "    <tr>\n",
       "      <th>0</th>\n",
       "      <td>7.4</td>\n",
       "      <td>0.700</td>\n",
       "      <td>0.00</td>\n",
       "      <td>1.9</td>\n",
       "      <td>0.076</td>\n",
       "      <td>11.0</td>\n",
       "      <td>34.0</td>\n",
       "      <td>0.99780</td>\n",
       "      <td>3.51</td>\n",
       "      <td>0.56</td>\n",
       "      <td>9.4</td>\n",
       "      <td>5</td>\n",
       "    </tr>\n",
       "    <tr>\n",
       "      <th>1</th>\n",
       "      <td>7.8</td>\n",
       "      <td>0.880</td>\n",
       "      <td>0.00</td>\n",
       "      <td>2.6</td>\n",
       "      <td>0.098</td>\n",
       "      <td>25.0</td>\n",
       "      <td>67.0</td>\n",
       "      <td>0.99680</td>\n",
       "      <td>3.20</td>\n",
       "      <td>0.68</td>\n",
       "      <td>9.8</td>\n",
       "      <td>5</td>\n",
       "    </tr>\n",
       "    <tr>\n",
       "      <th>2</th>\n",
       "      <td>7.8</td>\n",
       "      <td>0.760</td>\n",
       "      <td>0.04</td>\n",
       "      <td>2.3</td>\n",
       "      <td>0.092</td>\n",
       "      <td>15.0</td>\n",
       "      <td>54.0</td>\n",
       "      <td>0.99700</td>\n",
       "      <td>3.26</td>\n",
       "      <td>0.65</td>\n",
       "      <td>9.8</td>\n",
       "      <td>5</td>\n",
       "    </tr>\n",
       "    <tr>\n",
       "      <th>3</th>\n",
       "      <td>11.2</td>\n",
       "      <td>0.280</td>\n",
       "      <td>0.56</td>\n",
       "      <td>1.9</td>\n",
       "      <td>0.075</td>\n",
       "      <td>17.0</td>\n",
       "      <td>60.0</td>\n",
       "      <td>0.99800</td>\n",
       "      <td>3.16</td>\n",
       "      <td>0.58</td>\n",
       "      <td>9.8</td>\n",
       "      <td>6</td>\n",
       "    </tr>\n",
       "    <tr>\n",
       "      <th>4</th>\n",
       "      <td>7.4</td>\n",
       "      <td>0.700</td>\n",
       "      <td>0.00</td>\n",
       "      <td>1.9</td>\n",
       "      <td>0.076</td>\n",
       "      <td>11.0</td>\n",
       "      <td>34.0</td>\n",
       "      <td>0.99780</td>\n",
       "      <td>3.51</td>\n",
       "      <td>0.56</td>\n",
       "      <td>9.4</td>\n",
       "      <td>5</td>\n",
       "    </tr>\n",
       "    <tr>\n",
       "      <th>...</th>\n",
       "      <td>...</td>\n",
       "      <td>...</td>\n",
       "      <td>...</td>\n",
       "      <td>...</td>\n",
       "      <td>...</td>\n",
       "      <td>...</td>\n",
       "      <td>...</td>\n",
       "      <td>...</td>\n",
       "      <td>...</td>\n",
       "      <td>...</td>\n",
       "      <td>...</td>\n",
       "      <td>...</td>\n",
       "    </tr>\n",
       "    <tr>\n",
       "      <th>1594</th>\n",
       "      <td>6.2</td>\n",
       "      <td>0.600</td>\n",
       "      <td>0.08</td>\n",
       "      <td>2.0</td>\n",
       "      <td>0.090</td>\n",
       "      <td>32.0</td>\n",
       "      <td>44.0</td>\n",
       "      <td>0.99490</td>\n",
       "      <td>3.45</td>\n",
       "      <td>0.58</td>\n",
       "      <td>10.5</td>\n",
       "      <td>5</td>\n",
       "    </tr>\n",
       "    <tr>\n",
       "      <th>1595</th>\n",
       "      <td>5.9</td>\n",
       "      <td>0.550</td>\n",
       "      <td>0.10</td>\n",
       "      <td>2.2</td>\n",
       "      <td>0.062</td>\n",
       "      <td>39.0</td>\n",
       "      <td>51.0</td>\n",
       "      <td>0.99512</td>\n",
       "      <td>3.52</td>\n",
       "      <td>0.76</td>\n",
       "      <td>11.2</td>\n",
       "      <td>6</td>\n",
       "    </tr>\n",
       "    <tr>\n",
       "      <th>1596</th>\n",
       "      <td>6.3</td>\n",
       "      <td>0.510</td>\n",
       "      <td>0.13</td>\n",
       "      <td>2.3</td>\n",
       "      <td>0.076</td>\n",
       "      <td>29.0</td>\n",
       "      <td>40.0</td>\n",
       "      <td>0.99574</td>\n",
       "      <td>3.42</td>\n",
       "      <td>0.75</td>\n",
       "      <td>11.0</td>\n",
       "      <td>6</td>\n",
       "    </tr>\n",
       "    <tr>\n",
       "      <th>1597</th>\n",
       "      <td>5.9</td>\n",
       "      <td>0.645</td>\n",
       "      <td>0.12</td>\n",
       "      <td>2.0</td>\n",
       "      <td>0.075</td>\n",
       "      <td>32.0</td>\n",
       "      <td>44.0</td>\n",
       "      <td>0.99547</td>\n",
       "      <td>3.57</td>\n",
       "      <td>0.71</td>\n",
       "      <td>10.2</td>\n",
       "      <td>5</td>\n",
       "    </tr>\n",
       "    <tr>\n",
       "      <th>1598</th>\n",
       "      <td>6.0</td>\n",
       "      <td>0.310</td>\n",
       "      <td>0.47</td>\n",
       "      <td>3.6</td>\n",
       "      <td>0.067</td>\n",
       "      <td>18.0</td>\n",
       "      <td>42.0</td>\n",
       "      <td>0.99549</td>\n",
       "      <td>3.39</td>\n",
       "      <td>0.66</td>\n",
       "      <td>11.0</td>\n",
       "      <td>6</td>\n",
       "    </tr>\n",
       "  </tbody>\n",
       "</table>\n",
       "<p>1599 rows × 12 columns</p>\n",
       "</div>"
      ],
      "text/plain": [
       "      fixed acidity  volatile acidity  citric acid  residual sugar  chlorides  \\\n",
       "0               7.4             0.700         0.00             1.9      0.076   \n",
       "1               7.8             0.880         0.00             2.6      0.098   \n",
       "2               7.8             0.760         0.04             2.3      0.092   \n",
       "3              11.2             0.280         0.56             1.9      0.075   \n",
       "4               7.4             0.700         0.00             1.9      0.076   \n",
       "...             ...               ...          ...             ...        ...   \n",
       "1594            6.2             0.600         0.08             2.0      0.090   \n",
       "1595            5.9             0.550         0.10             2.2      0.062   \n",
       "1596            6.3             0.510         0.13             2.3      0.076   \n",
       "1597            5.9             0.645         0.12             2.0      0.075   \n",
       "1598            6.0             0.310         0.47             3.6      0.067   \n",
       "\n",
       "      free sulfur dioxide  total sulfur dioxide  density    pH  sulphates  \\\n",
       "0                    11.0                  34.0  0.99780  3.51       0.56   \n",
       "1                    25.0                  67.0  0.99680  3.20       0.68   \n",
       "2                    15.0                  54.0  0.99700  3.26       0.65   \n",
       "3                    17.0                  60.0  0.99800  3.16       0.58   \n",
       "4                    11.0                  34.0  0.99780  3.51       0.56   \n",
       "...                   ...                   ...      ...   ...        ...   \n",
       "1594                 32.0                  44.0  0.99490  3.45       0.58   \n",
       "1595                 39.0                  51.0  0.99512  3.52       0.76   \n",
       "1596                 29.0                  40.0  0.99574  3.42       0.75   \n",
       "1597                 32.0                  44.0  0.99547  3.57       0.71   \n",
       "1598                 18.0                  42.0  0.99549  3.39       0.66   \n",
       "\n",
       "      alcohol  quality  \n",
       "0         9.4        5  \n",
       "1         9.8        5  \n",
       "2         9.8        5  \n",
       "3         9.8        6  \n",
       "4         9.4        5  \n",
       "...       ...      ...  \n",
       "1594     10.5        5  \n",
       "1595     11.2        6  \n",
       "1596     11.0        6  \n",
       "1597     10.2        5  \n",
       "1598     11.0        6  \n",
       "\n",
       "[1599 rows x 12 columns]"
      ]
     },
     "execution_count": 3,
     "metadata": {},
     "output_type": "execute_result"
    }
   ],
   "source": [
    "main_df = pd.read_csv('data/winequality-red.csv', sep=';')\n",
    "main_df"
   ]
  },
  {
   "cell_type": "markdown",
   "id": "ab178ba0",
   "metadata": {},
   "source": [
    "## Validation methods\n",
    "#### 1) K-fold cross validation\n",
    "k-fold cross validation split"
   ]
  },
  {
   "cell_type": "code",
   "execution_count": 4,
   "id": "a41d1182",
   "metadata": {},
   "outputs": [],
   "source": [
    "def cross_validation_split(df, folds=5):\n",
    "    return np.array_split(df, folds)"
   ]
  },
  {
   "cell_type": "markdown",
   "id": "b10f5f9c",
   "metadata": {},
   "source": [
    "#### 2) Train and test datasets"
   ]
  },
  {
   "cell_type": "code",
   "execution_count": 29,
   "id": "fb2ebb5a",
   "metadata": {},
   "outputs": [],
   "source": [
    "def get_train_and_test_datasets(df, train_to_test_ratio):\n",
    "    train = df.sample(frac=train_to_test_ratio)\n",
    "    test = df.drop(train.index)\n",
    "    return train, test"
   ]
  },
  {
   "cell_type": "markdown",
   "id": "619844a7",
   "metadata": {},
   "source": [
    "### Class probabilities\n",
    "Probabilities are calculated separatelty for each class.\n",
    "\n",
    "This function determines probabilities that given row belongs to a class."
   ]
  },
  {
   "cell_type": "code",
   "execution_count": 6,
   "id": "e2cce8a3",
   "metadata": {},
   "outputs": [],
   "source": [
    "def get_class_probabilities(train, row):\n",
    "    by_class = train.groupby('quality')\n",
    "    prior = by_class.size().div(len(train))\n",
    "    probabilities = dict()\n",
    "    classes = by_class.groups.keys()\n",
    "    total_rows = main_df.shape[0]\n",
    "    for class_value in classes:\n",
    "\n",
    "        mean = by_class.get_group(class_value).drop(columns=['quality']).mean()\n",
    "        std = by_class.get_group(class_value).drop(columns=['quality']).std()\n",
    "        probabilities[class_value] = prior[class_value]\n",
    "        \n",
    "        for prob in norm(mean, std).pdf(row):\n",
    "            probabilities[class_value] *= prob\n",
    "            \n",
    "    return probabilities"
   ]
  },
  {
   "cell_type": "markdown",
   "id": "64b954f8",
   "metadata": {},
   "source": [
    "#### Return the class with the highest probability"
   ]
  },
  {
   "cell_type": "code",
   "execution_count": 7,
   "id": "dc37c674",
   "metadata": {},
   "outputs": [],
   "source": [
    "def get_prediction(probabilities):\n",
    "    return max(probabilities, key=probabilities.get)"
   ]
  },
  {
   "cell_type": "markdown",
   "id": "ec571487",
   "metadata": {},
   "source": [
    "#### Accuracy of the model"
   ]
  },
  {
   "cell_type": "code",
   "execution_count": 8,
   "id": "761bb79b",
   "metadata": {},
   "outputs": [],
   "source": [
    "def get_accuracy(train, test):\n",
    "    good = 0\n",
    "    for num in range(test.shape[0]):\n",
    "        real_class = test.iloc[num][\"quality\"]\n",
    "        row = test.drop(columns=\"quality\").iloc[num]\n",
    "        probabs = get_class_probabilities(train, row)\n",
    "        pred = get_prediction(probabs)\n",
    "        if pred ==real_class:\n",
    "            good+=1\n",
    "    return good/test.shape[0]"
   ]
  },
  {
   "cell_type": "code",
   "execution_count": 9,
   "id": "df786862",
   "metadata": {},
   "outputs": [],
   "source": [
    "def get_accuracy_cross_validation(df, folds=5):\n",
    "    accuracy_array = []\n",
    "    dataset_split = cross_validation_split(df, folds)\n",
    "    for index, dataset in enumerate(dataset_split):\n",
    "        train_datasets = np.delete(dataset_split, index)\n",
    "        train = pd.concat(train_datasets)\n",
    "        test = dataset\n",
    "        print(\"Split \", index+1, \": \", get_accuracy(train, test))\n",
    "        accuracy_array.append(get_accuracy(train, test))\n",
    "    average_accuracy = sum(accuracy_array)/len(accuracy_array)\n",
    "    print(\"\\nAverage accuracy: \", average_accuracy)\n",
    "    return average_accuracy"
   ]
  },
  {
   "cell_type": "markdown",
   "id": "2385e945",
   "metadata": {},
   "source": [
    "## Model validation\n",
    "\n",
    "### 1) k fold validation ( k = 5 )\n",
    "\n",
    "##### Experiment 1"
   ]
  },
  {
   "cell_type": "code",
   "execution_count": 385,
   "id": "b4899115",
   "metadata": {},
   "outputs": [
    {
     "name": "stdout",
     "output_type": "stream",
     "text": [
      "Split  1 :  0.521875\n",
      "Split  2 :  0.490625\n",
      "Split  3 :  0.540625\n",
      "Split  4 :  0.4875\n",
      "Split  5 :  0.5862068965517241\n",
      "\n",
      "Average accuracy:  0.5253663793103448\n"
     ]
    }
   ],
   "source": [
    "get_accuracy_cross_validation(main_df, 5);"
   ]
  },
  {
   "cell_type": "markdown",
   "id": "8291ff0c",
   "metadata": {},
   "source": [
    "##### Note:\n",
    "There's no need to make more experiments - results would be the same. Function `cross_validation_split(df, folds)` returns the same split every time."
   ]
  },
  {
   "cell_type": "markdown",
   "id": "9ef3e9e4",
   "metadata": {},
   "source": [
    "### 2) Train and test datasets (60/40)\n",
    "Every time `get_train_and_test_datasets(df, folds)` is runned, it generates different datasets. It randomly choses rows to be in the train and test datasets\n",
    "\n",
    "##### Experiment 1"
   ]
  },
  {
   "cell_type": "code",
   "execution_count": 31,
   "id": "7448ce13",
   "metadata": {},
   "outputs": [
    {
     "data": {
      "text/plain": [
       "0.4609375"
      ]
     },
     "execution_count": 31,
     "metadata": {},
     "output_type": "execute_result"
    }
   ],
   "source": [
    "train, test = get_train_and_test_datasets(main_df, 0.6)\n",
    "get_accuracy(train, test)"
   ]
  },
  {
   "cell_type": "markdown",
   "id": "bd3089e1",
   "metadata": {},
   "source": [
    "##### Experiment 2"
   ]
  },
  {
   "cell_type": "code",
   "execution_count": 32,
   "id": "3cb87693",
   "metadata": {},
   "outputs": [
    {
     "data": {
      "text/plain": [
       "0.5640625"
      ]
     },
     "execution_count": 32,
     "metadata": {},
     "output_type": "execute_result"
    }
   ],
   "source": [
    "train, test = get_train_and_test_datasets(main_df, 0.6)\n",
    "get_accuracy(train, test)"
   ]
  },
  {
   "cell_type": "markdown",
   "id": "e95b1dea",
   "metadata": {},
   "source": [
    "##### Experiment 3"
   ]
  },
  {
   "cell_type": "code",
   "execution_count": 36,
   "id": "433495a8",
   "metadata": {},
   "outputs": [
    {
     "data": {
      "text/plain": [
       "0.5828125"
      ]
     },
     "execution_count": 36,
     "metadata": {},
     "output_type": "execute_result"
    }
   ],
   "source": [
    "train, test = get_train_and_test_datasets(main_df, 0.6)\n",
    "get_accuracy(train, test)"
   ]
  }
 ],
 "metadata": {
  "kernelspec": {
   "display_name": "Python 3",
   "language": "python",
   "name": "python3"
  },
  "language_info": {
   "codemirror_mode": {
    "name": "ipython",
    "version": 3
   },
   "file_extension": ".py",
   "mimetype": "text/x-python",
   "name": "python",
   "nbconvert_exporter": "python",
   "pygments_lexer": "ipython3",
   "version": "3.8.8"
  }
 },
 "nbformat": 4,
 "nbformat_minor": 5
}
